{
 "cells": [
  {
   "attachments": {},
   "cell_type": "markdown",
   "metadata": {},
   "source": [
    "# PJM Marginal Fuel Study\n",
    "\n",
    "Analysis of marginal fuel on PJM over the past decade using public data from PJM and Monitoring Analytics.  We focus particularly on the % of wind and solar offered on the margin and are looking for any growth in these sources relative to fossil as marginal producer.  Study is to support our  effort in helping scope out the size of future curtailed excess generated renewable power available for grid-connected \"green\" loads. \n",
    "\n",
    "Started 1/12/2023 (david.t.wang@atlanticshoreswind.com)\n",
    "Python 3.9.13 "
   ]
  },
  {
   "cell_type": "code",
   "execution_count": 2,
   "metadata": {},
   "outputs": [],
   "source": [
    "import numpy as np\n",
    "import matplotlib as mpl\n",
    "import pandas as pd\n",
    "import matplotlib.pyplot as plt\n",
    "import plotly\n",
    "from plotly import graph_objs as go\n",
    "from plotly import express as px"
   ]
  },
  {
   "cell_type": "code",
   "execution_count": null,
   "metadata": {},
   "outputs": [],
   "source": [
    "# Create array of filenames from PJM website.  These filenames are in the format:\n",
    "# 202209_Marginal_Fuel_Postings.csv\n",
    "#\n",
    "# Data go back to 200401_ ...\n",
    "\n",
    "filenames = []\n",
    "\n",
    "for i in np.arange(2004,2024):\n",
    "    for j in np.arange(1,13):\n",
    "        filenames.append(\"%04.0f%02.0f_Marginal_Fuel_Postings.csv\" % (i,j))\n",
    "\n",
    "\n",
    "\n",
    "# 12*(i-2004)+j-1)      '{:4.0f}{:2.0f}'.format)\n",
    "\n",
    "\n"
   ]
  },
  {
   "cell_type": "code",
   "execution_count": null,
   "metadata": {},
   "outputs": [],
   "source": [
    "# WGET and import monthly PJM data into pandas dataframe\n",
    "# \n",
    "# These files are located at:\n",
    "# http://www.monitoringanalytics.com/data/marginal_fuel_type/202208_Marginal_Fuel_Postings.csv\n",
    "\n",
    "urlprefix = 'http://www.monitoringanalytics.com/data/marginal_fuel_type/'\n",
    "urls = [urlprefix + s for s in filenames]\n",
    "\n",
    "pjmdat = pd.DataFrame() #([], headers=['RUN','HOUR','MMS_TIMEZONE','FUEL_TYPE','PERCENT_MARGINAL'])\n",
    "\n",
    "for i in range(len(urls)):\n",
    "    try:\n",
    "        tmpdf = pd.read_csv(urls[i])\n",
    "        pjmdat = pd.concat([pjmdat, tmpdf])\n",
    "    except:\n",
    "        print(\"File %s does not exist.\" % (filenames[i]))\n",
    "\n",
    "\n",
    "pjmdat.to_hdf('pjmdat.h5', key='pjmdat')\n",
    "pjmdat.to_csv('pjmdat.csv')\n",
    "pjmdat\n",
    "\n",
    "# CSV files contain: \n",
    "# RUN\tHOUR\t            MMS_TIMEZONE\tFUEL_TYPE\tPERCENT_MARGINAL\n",
    "# str   DDMMMYYYY:HH:MM:SS  str             str         %age as str or fraction of 1\n"
   ]
  },
  {
   "cell_type": "code",
   "execution_count": 3,
   "metadata": {},
   "outputs": [
    {
     "name": "stderr",
     "output_type": "stream",
     "text": [
      "C:\\Users\\DavidTWang\\AppData\\Local\\Temp\\ipykernel_32144\\844856454.py:2: DtypeWarning: Columns (1,3,4,5,7,9,10,11) have mixed types. Specify dtype option on import or set low_memory=False.\n",
      "  pjmdat = pd.read_csv('pjmdat.csv', index_col=[0])\n"
     ]
    }
   ],
   "source": [
    "# read from saved data to save server call\n",
    "pjmdat = pd.read_csv('pjmdat.csv', index_col=[0])\n",
    "\n",
    "# clean duplicate columns and merge to eliminate NaN's\n",
    "margfueldf = pd.DataFrame() # initalize empty df\n",
    "margfueldf['DATETIME'] = pjmdat['mms_datetime'].fillna(pjmdat['HOUR']).astype('str')\n",
    "margfueldf['TIMEZONE'] = pjmdat['MMS_TIMEZONE'].fillna(pjmdat['mms_timezone']).astype('str')\n",
    "margfueldf['FUEL'] = pjmdat['fuel_type'].fillna(pjmdat['FUEL_TYPE']).astype('str')\n",
    "margfueldf['PCT_MARGINAL'] = (pjmdat['percent_marginal'].str.replace('%', 'e-2').astype(float)).fillna(pjmdat['PERCENT_MARGINAL'])\n"
   ]
  },
  {
   "cell_type": "code",
   "execution_count": 4,
   "metadata": {},
   "outputs": [],
   "source": [
    "# create dtdf, a DST-naive Series of datetimes in EST or EDT\n",
    "dtdf = pd.to_datetime(margfueldf['DATETIME'], format=\"%d%b%Y:%H:%M:%S\", errors=\"coerce\").fillna(pd.to_datetime(margfueldf['DATETIME'], format=\"%d%b%y:%H:%M:%S\", errors=\"coerce\"))\n",
    "\n",
    "# function to determine whether to correct the nominal UTC times by 1 hour when DST is in effect\n",
    "def zoneoffsetfunc(pddatetime, tzname):\n",
    "    adder = {'EST': 0, 'EDT': -1} #dict to match EST/EDT to offset value in hours\n",
    "    return pddatetime + pd.Timedelta(hours=adder[tzname])\n",
    "\n",
    "# now add +4 hours to convert to UTC, keeping in mind that times that were in EDT are -1 hour behind\n",
    "dtdf_UTC = dtdf + pd.Timedelta(hours=4)\n",
    "tempdf = pd.concat([dtdf_UTC, margfueldf['TIMEZONE']], axis=1)\n",
    "\n",
    "# apply zoneoffsetfunc to every row in df\n",
    "tempdf['DATETIME_UTC'] = tempdf.apply(lambda x: zoneoffsetfunc(x['DATETIME'], x['TIMEZONE']), axis=1)\n",
    "\n",
    "# create naive EST (EDT would be this time +1 hr)\n",
    "tempdf['DATETIME_ESTn'] = tempdf['DATETIME_UTC'] + pd.Timedelta(hours=-4) \n"
   ]
  },
  {
   "cell_type": "code",
   "execution_count": 5,
   "metadata": {},
   "outputs": [],
   "source": [
    "# put UTC datetime column to margfueldf and drop the original columns\n",
    "margfueldf['DATETIME_UTC'] = tempdf['DATETIME_UTC']\n",
    "margfueldf['DATETIME_ESTn'] = tempdf['DATETIME_ESTn']\n",
    "margfueldf.drop(['DATETIME', 'TIMEZONE'], axis=1, inplace=True)\n",
    "margfueldf = margfueldf[['DATETIME_ESTn', 'FUEL', 'PCT_MARGINAL']]"
   ]
  },
  {
   "cell_type": "code",
   "execution_count": 6,
   "metadata": {},
   "outputs": [],
   "source": [
    "# clean up the fuel types by grouping them\n",
    "tempdf = pd.read_csv('fueltypes_mapping.csv', index_col=[0])\n",
    "mapping = dict(tempdf[['original','lumped']].values)\n",
    "margfueldf['FUEL'] = margfueldf['FUEL'].map(mapping)\n",
    "margfueldf['PCT_MARGINAL'] = margfueldf['PCT_MARGINAL']*100\n",
    "margfueldf\n",
    "\n",
    "# set index on datetime\n",
    "margfueldf.set_index('DATETIME_ESTn', inplace=True)"
   ]
  },
  {
   "cell_type": "code",
   "execution_count": 7,
   "metadata": {},
   "outputs": [
    {
     "data": {
      "text/html": [
       "<div>\n",
       "<style scoped>\n",
       "    .dataframe tbody tr th:only-of-type {\n",
       "        vertical-align: middle;\n",
       "    }\n",
       "\n",
       "    .dataframe tbody tr th {\n",
       "        vertical-align: top;\n",
       "    }\n",
       "\n",
       "    .dataframe thead th {\n",
       "        text-align: right;\n",
       "    }\n",
       "</style>\n",
       "<table border=\"1\" class=\"dataframe\">\n",
       "  <thead>\n",
       "    <tr style=\"text-align: right;\">\n",
       "      <th>FUEL</th>\n",
       "      <th>DR</th>\n",
       "      <th>MGE</th>\n",
       "      <th>battery</th>\n",
       "      <th>biogas</th>\n",
       "      <th>biomass</th>\n",
       "      <th>coal</th>\n",
       "      <th>gas</th>\n",
       "      <th>hydro</th>\n",
       "      <th>imported</th>\n",
       "      <th>misc</th>\n",
       "      <th>nuclear</th>\n",
       "      <th>oil</th>\n",
       "      <th>solar</th>\n",
       "      <th>unknown</th>\n",
       "      <th>virtualsale</th>\n",
       "      <th>wind</th>\n",
       "    </tr>\n",
       "    <tr>\n",
       "      <th>DATETIME_ESTn</th>\n",
       "      <th></th>\n",
       "      <th></th>\n",
       "      <th></th>\n",
       "      <th></th>\n",
       "      <th></th>\n",
       "      <th></th>\n",
       "      <th></th>\n",
       "      <th></th>\n",
       "      <th></th>\n",
       "      <th></th>\n",
       "      <th></th>\n",
       "      <th></th>\n",
       "      <th></th>\n",
       "      <th></th>\n",
       "      <th></th>\n",
       "      <th></th>\n",
       "    </tr>\n",
       "  </thead>\n",
       "  <tbody>\n",
       "    <tr>\n",
       "      <th>2004-01-01 00:00:00</th>\n",
       "      <td>0.0</td>\n",
       "      <td>0.0</td>\n",
       "      <td>0.0</td>\n",
       "      <td>0.0</td>\n",
       "      <td>0.0</td>\n",
       "      <td>100.00</td>\n",
       "      <td>0.00</td>\n",
       "      <td>0.0</td>\n",
       "      <td>0.0</td>\n",
       "      <td>0.0</td>\n",
       "      <td>0.0</td>\n",
       "      <td>0.0</td>\n",
       "      <td>0.0</td>\n",
       "      <td>0.0</td>\n",
       "      <td>0.0</td>\n",
       "      <td>0.0</td>\n",
       "    </tr>\n",
       "    <tr>\n",
       "      <th>2004-01-01 01:00:00</th>\n",
       "      <td>0.0</td>\n",
       "      <td>0.0</td>\n",
       "      <td>0.0</td>\n",
       "      <td>0.0</td>\n",
       "      <td>0.0</td>\n",
       "      <td>100.00</td>\n",
       "      <td>0.00</td>\n",
       "      <td>0.0</td>\n",
       "      <td>0.0</td>\n",
       "      <td>0.0</td>\n",
       "      <td>0.0</td>\n",
       "      <td>0.0</td>\n",
       "      <td>0.0</td>\n",
       "      <td>0.0</td>\n",
       "      <td>0.0</td>\n",
       "      <td>0.0</td>\n",
       "    </tr>\n",
       "    <tr>\n",
       "      <th>2004-01-01 02:00:00</th>\n",
       "      <td>0.0</td>\n",
       "      <td>0.0</td>\n",
       "      <td>0.0</td>\n",
       "      <td>0.0</td>\n",
       "      <td>0.0</td>\n",
       "      <td>100.00</td>\n",
       "      <td>0.00</td>\n",
       "      <td>0.0</td>\n",
       "      <td>0.0</td>\n",
       "      <td>0.0</td>\n",
       "      <td>0.0</td>\n",
       "      <td>0.0</td>\n",
       "      <td>0.0</td>\n",
       "      <td>0.0</td>\n",
       "      <td>0.0</td>\n",
       "      <td>0.0</td>\n",
       "    </tr>\n",
       "    <tr>\n",
       "      <th>2004-01-01 03:00:00</th>\n",
       "      <td>0.0</td>\n",
       "      <td>0.0</td>\n",
       "      <td>0.0</td>\n",
       "      <td>0.0</td>\n",
       "      <td>0.0</td>\n",
       "      <td>100.00</td>\n",
       "      <td>0.00</td>\n",
       "      <td>0.0</td>\n",
       "      <td>0.0</td>\n",
       "      <td>0.0</td>\n",
       "      <td>0.0</td>\n",
       "      <td>0.0</td>\n",
       "      <td>0.0</td>\n",
       "      <td>0.0</td>\n",
       "      <td>0.0</td>\n",
       "      <td>0.0</td>\n",
       "    </tr>\n",
       "    <tr>\n",
       "      <th>2004-01-01 04:00:00</th>\n",
       "      <td>0.0</td>\n",
       "      <td>0.0</td>\n",
       "      <td>0.0</td>\n",
       "      <td>0.0</td>\n",
       "      <td>0.0</td>\n",
       "      <td>100.00</td>\n",
       "      <td>0.00</td>\n",
       "      <td>0.0</td>\n",
       "      <td>0.0</td>\n",
       "      <td>0.0</td>\n",
       "      <td>0.0</td>\n",
       "      <td>0.0</td>\n",
       "      <td>0.0</td>\n",
       "      <td>0.0</td>\n",
       "      <td>0.0</td>\n",
       "      <td>0.0</td>\n",
       "    </tr>\n",
       "    <tr>\n",
       "      <th>...</th>\n",
       "      <td>...</td>\n",
       "      <td>...</td>\n",
       "      <td>...</td>\n",
       "      <td>...</td>\n",
       "      <td>...</td>\n",
       "      <td>...</td>\n",
       "      <td>...</td>\n",
       "      <td>...</td>\n",
       "      <td>...</td>\n",
       "      <td>...</td>\n",
       "      <td>...</td>\n",
       "      <td>...</td>\n",
       "      <td>...</td>\n",
       "      <td>...</td>\n",
       "      <td>...</td>\n",
       "      <td>...</td>\n",
       "    </tr>\n",
       "    <tr>\n",
       "      <th>2022-09-30 18:00:00</th>\n",
       "      <td>0.0</td>\n",
       "      <td>0.0</td>\n",
       "      <td>0.0</td>\n",
       "      <td>0.0</td>\n",
       "      <td>0.0</td>\n",
       "      <td>20.00</td>\n",
       "      <td>80.00</td>\n",
       "      <td>0.0</td>\n",
       "      <td>0.0</td>\n",
       "      <td>0.0</td>\n",
       "      <td>0.0</td>\n",
       "      <td>0.0</td>\n",
       "      <td>0.0</td>\n",
       "      <td>0.0</td>\n",
       "      <td>0.0</td>\n",
       "      <td>0.0</td>\n",
       "    </tr>\n",
       "    <tr>\n",
       "      <th>2022-09-30 19:00:00</th>\n",
       "      <td>0.0</td>\n",
       "      <td>0.0</td>\n",
       "      <td>0.0</td>\n",
       "      <td>0.0</td>\n",
       "      <td>0.0</td>\n",
       "      <td>0.00</td>\n",
       "      <td>100.00</td>\n",
       "      <td>0.0</td>\n",
       "      <td>0.0</td>\n",
       "      <td>0.0</td>\n",
       "      <td>0.0</td>\n",
       "      <td>0.0</td>\n",
       "      <td>0.0</td>\n",
       "      <td>0.0</td>\n",
       "      <td>0.0</td>\n",
       "      <td>0.0</td>\n",
       "    </tr>\n",
       "    <tr>\n",
       "      <th>2022-09-30 20:00:00</th>\n",
       "      <td>0.0</td>\n",
       "      <td>0.0</td>\n",
       "      <td>0.0</td>\n",
       "      <td>0.0</td>\n",
       "      <td>0.0</td>\n",
       "      <td>7.69</td>\n",
       "      <td>92.31</td>\n",
       "      <td>0.0</td>\n",
       "      <td>0.0</td>\n",
       "      <td>0.0</td>\n",
       "      <td>0.0</td>\n",
       "      <td>0.0</td>\n",
       "      <td>0.0</td>\n",
       "      <td>0.0</td>\n",
       "      <td>0.0</td>\n",
       "      <td>0.0</td>\n",
       "    </tr>\n",
       "    <tr>\n",
       "      <th>2022-09-30 21:00:00</th>\n",
       "      <td>0.0</td>\n",
       "      <td>0.0</td>\n",
       "      <td>0.0</td>\n",
       "      <td>0.0</td>\n",
       "      <td>0.0</td>\n",
       "      <td>0.00</td>\n",
       "      <td>100.00</td>\n",
       "      <td>0.0</td>\n",
       "      <td>0.0</td>\n",
       "      <td>0.0</td>\n",
       "      <td>0.0</td>\n",
       "      <td>0.0</td>\n",
       "      <td>0.0</td>\n",
       "      <td>0.0</td>\n",
       "      <td>0.0</td>\n",
       "      <td>0.0</td>\n",
       "    </tr>\n",
       "    <tr>\n",
       "      <th>2022-09-30 22:00:00</th>\n",
       "      <td>0.0</td>\n",
       "      <td>0.0</td>\n",
       "      <td>0.0</td>\n",
       "      <td>0.0</td>\n",
       "      <td>0.0</td>\n",
       "      <td>0.00</td>\n",
       "      <td>100.00</td>\n",
       "      <td>0.0</td>\n",
       "      <td>0.0</td>\n",
       "      <td>0.0</td>\n",
       "      <td>0.0</td>\n",
       "      <td>0.0</td>\n",
       "      <td>0.0</td>\n",
       "      <td>0.0</td>\n",
       "      <td>0.0</td>\n",
       "      <td>0.0</td>\n",
       "    </tr>\n",
       "  </tbody>\n",
       "</table>\n",
       "<p>163374 rows × 16 columns</p>\n",
       "</div>"
      ],
      "text/plain": [
       "FUEL                  DR  MGE  battery  biogas  biomass    coal     gas  \\\n",
       "DATETIME_ESTn                                                             \n",
       "2004-01-01 00:00:00  0.0  0.0      0.0     0.0      0.0  100.00    0.00   \n",
       "2004-01-01 01:00:00  0.0  0.0      0.0     0.0      0.0  100.00    0.00   \n",
       "2004-01-01 02:00:00  0.0  0.0      0.0     0.0      0.0  100.00    0.00   \n",
       "2004-01-01 03:00:00  0.0  0.0      0.0     0.0      0.0  100.00    0.00   \n",
       "2004-01-01 04:00:00  0.0  0.0      0.0     0.0      0.0  100.00    0.00   \n",
       "...                  ...  ...      ...     ...      ...     ...     ...   \n",
       "2022-09-30 18:00:00  0.0  0.0      0.0     0.0      0.0   20.00   80.00   \n",
       "2022-09-30 19:00:00  0.0  0.0      0.0     0.0      0.0    0.00  100.00   \n",
       "2022-09-30 20:00:00  0.0  0.0      0.0     0.0      0.0    7.69   92.31   \n",
       "2022-09-30 21:00:00  0.0  0.0      0.0     0.0      0.0    0.00  100.00   \n",
       "2022-09-30 22:00:00  0.0  0.0      0.0     0.0      0.0    0.00  100.00   \n",
       "\n",
       "FUEL                 hydro  imported  misc  nuclear  oil  solar  unknown  \\\n",
       "DATETIME_ESTn                                                              \n",
       "2004-01-01 00:00:00    0.0       0.0   0.0      0.0  0.0    0.0      0.0   \n",
       "2004-01-01 01:00:00    0.0       0.0   0.0      0.0  0.0    0.0      0.0   \n",
       "2004-01-01 02:00:00    0.0       0.0   0.0      0.0  0.0    0.0      0.0   \n",
       "2004-01-01 03:00:00    0.0       0.0   0.0      0.0  0.0    0.0      0.0   \n",
       "2004-01-01 04:00:00    0.0       0.0   0.0      0.0  0.0    0.0      0.0   \n",
       "...                    ...       ...   ...      ...  ...    ...      ...   \n",
       "2022-09-30 18:00:00    0.0       0.0   0.0      0.0  0.0    0.0      0.0   \n",
       "2022-09-30 19:00:00    0.0       0.0   0.0      0.0  0.0    0.0      0.0   \n",
       "2022-09-30 20:00:00    0.0       0.0   0.0      0.0  0.0    0.0      0.0   \n",
       "2022-09-30 21:00:00    0.0       0.0   0.0      0.0  0.0    0.0      0.0   \n",
       "2022-09-30 22:00:00    0.0       0.0   0.0      0.0  0.0    0.0      0.0   \n",
       "\n",
       "FUEL                 virtualsale  wind  \n",
       "DATETIME_ESTn                           \n",
       "2004-01-01 00:00:00          0.0   0.0  \n",
       "2004-01-01 01:00:00          0.0   0.0  \n",
       "2004-01-01 02:00:00          0.0   0.0  \n",
       "2004-01-01 03:00:00          0.0   0.0  \n",
       "2004-01-01 04:00:00          0.0   0.0  \n",
       "...                          ...   ...  \n",
       "2022-09-30 18:00:00          0.0   0.0  \n",
       "2022-09-30 19:00:00          0.0   0.0  \n",
       "2022-09-30 20:00:00          0.0   0.0  \n",
       "2022-09-30 21:00:00          0.0   0.0  \n",
       "2022-09-30 22:00:00          0.0   0.0  \n",
       "\n",
       "[163374 rows x 16 columns]"
      ]
     },
     "execution_count": 7,
     "metadata": {},
     "output_type": "execute_result"
    }
   ],
   "source": [
    "# reshape df into table with DATETIME as rows and FUEL as columns\n",
    "# 163374 rows × 16 columns\n",
    "df = pd.pivot_table(margfueldf.reset_index(), values='PCT_MARGINAL', \n",
    "    index=['DATETIME_ESTn'], columns=['FUEL'])\n",
    "df.fillna(0, inplace=True)\n",
    "df"
   ]
  },
  {
   "cell_type": "code",
   "execution_count": 8,
   "metadata": {},
   "outputs": [
    {
     "data": {
      "image/png": "[encoded data removed]",
      "text/plain": [
       "<Figure size 640x480 with 1 Axes>"
      ]
     },
     "metadata": {},
     "output_type": "display_data"
    }
   ],
   "source": [
    "# plotting 2021 marginal fuel mix\n",
    "f1 = plt.figure()\n",
    "\n",
    "plt.title('PJM Marginal Fuel', color='black')\n",
    "df.loc['2021-01-01':'2022-01-01'].plot(kind='area', ax=f1.gca(), colormap='jet', linewidth=0.01)\n",
    "plt.legend(loc='right', bbox_to_anchor=(1.0, 0.5))\n",
    "plt.ylim([0,100])\n",
    "plt.show()\n",
    "\n",
    "# ax1 = df.loc['2021-01-01':'2022-01-01'].plot.area(colormap='jet')\n",
    "# ax1.yaxis.label.set_visible(False) # disable y-axis label\n",
    "# # add the legend\n",
    "# ax1.legend(labels, loc='best', bbox_to_anchor=(-0.1, 1.), fontsize=8)\n",
    "# plt.show()\n"
   ]
  },
  {
   "cell_type": "code",
   "execution_count": 23,
   "metadata": {},
   "outputs": [
    {
     "data": {
      "text/html": [
       "<div>\n",
       "<style scoped>\n",
       "    .dataframe tbody tr th:only-of-type {\n",
       "        vertical-align: middle;\n",
       "    }\n",
       "\n",
       "    .dataframe tbody tr th {\n",
       "        vertical-align: top;\n",
       "    }\n",
       "\n",
       "    .dataframe thead th {\n",
       "        text-align: right;\n",
       "    }\n",
       "</style>\n",
       "<table border=\"1\" class=\"dataframe\">\n",
       "  <thead>\n",
       "    <tr style=\"text-align: right;\">\n",
       "      <th></th>\n",
       "      <th>FUEL</th>\n",
       "      <th>DR</th>\n",
       "      <th>MGE</th>\n",
       "      <th>battery</th>\n",
       "      <th>biogas</th>\n",
       "      <th>biomass</th>\n",
       "      <th>coal</th>\n",
       "      <th>gas</th>\n",
       "      <th>hydro</th>\n",
       "      <th>imported</th>\n",
       "      <th>misc</th>\n",
       "      <th>nuclear</th>\n",
       "      <th>oil</th>\n",
       "      <th>solar</th>\n",
       "      <th>unknown</th>\n",
       "      <th>virtualsale</th>\n",
       "      <th>wind</th>\n",
       "    </tr>\n",
       "    <tr>\n",
       "      <th>year</th>\n",
       "      <th>quarter</th>\n",
       "      <th></th>\n",
       "      <th></th>\n",
       "      <th></th>\n",
       "      <th></th>\n",
       "      <th></th>\n",
       "      <th></th>\n",
       "      <th></th>\n",
       "      <th></th>\n",
       "      <th></th>\n",
       "      <th></th>\n",
       "      <th></th>\n",
       "      <th></th>\n",
       "      <th></th>\n",
       "      <th></th>\n",
       "      <th></th>\n",
       "      <th></th>\n",
       "    </tr>\n",
       "  </thead>\n",
       "  <tbody>\n",
       "    <tr>\n",
       "      <th rowspan=\"4\" valign=\"top\">2004</th>\n",
       "      <th>1</th>\n",
       "      <td>0.000000</td>\n",
       "      <td>0.0</td>\n",
       "      <td>0.0</td>\n",
       "      <td>0.000000</td>\n",
       "      <td>0.000000</td>\n",
       "      <td>52.269281</td>\n",
       "      <td>38.525705</td>\n",
       "      <td>0.0</td>\n",
       "      <td>0.915755</td>\n",
       "      <td>0.000000</td>\n",
       "      <td>0.000000</td>\n",
       "      <td>6.820216</td>\n",
       "      <td>0.000000</td>\n",
       "      <td>1.469042</td>\n",
       "      <td>0.0</td>\n",
       "      <td>0.000000</td>\n",
       "    </tr>\n",
       "    <tr>\n",
       "      <th>2</th>\n",
       "      <td>0.000000</td>\n",
       "      <td>0.0</td>\n",
       "      <td>0.0</td>\n",
       "      <td>0.000000</td>\n",
       "      <td>0.000000</td>\n",
       "      <td>52.508393</td>\n",
       "      <td>31.671506</td>\n",
       "      <td>0.0</td>\n",
       "      <td>2.739629</td>\n",
       "      <td>0.000000</td>\n",
       "      <td>0.000000</td>\n",
       "      <td>9.861695</td>\n",
       "      <td>0.000000</td>\n",
       "      <td>3.218777</td>\n",
       "      <td>0.0</td>\n",
       "      <td>0.000000</td>\n",
       "    </tr>\n",
       "    <tr>\n",
       "      <th>3</th>\n",
       "      <td>0.000000</td>\n",
       "      <td>0.0</td>\n",
       "      <td>0.0</td>\n",
       "      <td>0.000000</td>\n",
       "      <td>0.000000</td>\n",
       "      <td>59.181880</td>\n",
       "      <td>30.146150</td>\n",
       "      <td>0.0</td>\n",
       "      <td>3.291789</td>\n",
       "      <td>0.000000</td>\n",
       "      <td>0.000000</td>\n",
       "      <td>4.531917</td>\n",
       "      <td>0.000000</td>\n",
       "      <td>2.843862</td>\n",
       "      <td>0.0</td>\n",
       "      <td>0.004402</td>\n",
       "    </tr>\n",
       "    <tr>\n",
       "      <th>4</th>\n",
       "      <td>0.000000</td>\n",
       "      <td>0.0</td>\n",
       "      <td>0.0</td>\n",
       "      <td>0.000000</td>\n",
       "      <td>0.000000</td>\n",
       "      <td>63.767255</td>\n",
       "      <td>24.591096</td>\n",
       "      <td>0.0</td>\n",
       "      <td>6.199135</td>\n",
       "      <td>0.000000</td>\n",
       "      <td>0.000000</td>\n",
       "      <td>4.642733</td>\n",
       "      <td>0.000000</td>\n",
       "      <td>0.797262</td>\n",
       "      <td>0.0</td>\n",
       "      <td>0.002518</td>\n",
       "    </tr>\n",
       "    <tr>\n",
       "      <th>2005</th>\n",
       "      <th>1</th>\n",
       "      <td>0.000000</td>\n",
       "      <td>0.0</td>\n",
       "      <td>0.0</td>\n",
       "      <td>0.000000</td>\n",
       "      <td>0.000000</td>\n",
       "      <td>72.442824</td>\n",
       "      <td>16.154519</td>\n",
       "      <td>0.0</td>\n",
       "      <td>1.566292</td>\n",
       "      <td>0.019931</td>\n",
       "      <td>0.000000</td>\n",
       "      <td>7.998490</td>\n",
       "      <td>0.000000</td>\n",
       "      <td>1.817945</td>\n",
       "      <td>0.0</td>\n",
       "      <td>0.000000</td>\n",
       "    </tr>\n",
       "    <tr>\n",
       "      <th>...</th>\n",
       "      <th>...</th>\n",
       "      <td>...</td>\n",
       "      <td>...</td>\n",
       "      <td>...</td>\n",
       "      <td>...</td>\n",
       "      <td>...</td>\n",
       "      <td>...</td>\n",
       "      <td>...</td>\n",
       "      <td>...</td>\n",
       "      <td>...</td>\n",
       "      <td>...</td>\n",
       "      <td>...</td>\n",
       "      <td>...</td>\n",
       "      <td>...</td>\n",
       "      <td>...</td>\n",
       "      <td>...</td>\n",
       "      <td>...</td>\n",
       "    </tr>\n",
       "    <tr>\n",
       "      <th rowspan=\"2\" valign=\"top\">2021</th>\n",
       "      <th>3</th>\n",
       "      <td>0.000000</td>\n",
       "      <td>0.0</td>\n",
       "      <td>0.0</td>\n",
       "      <td>0.012604</td>\n",
       "      <td>0.014534</td>\n",
       "      <td>21.153551</td>\n",
       "      <td>72.801268</td>\n",
       "      <td>0.0</td>\n",
       "      <td>0.000000</td>\n",
       "      <td>0.035091</td>\n",
       "      <td>0.854665</td>\n",
       "      <td>2.241769</td>\n",
       "      <td>0.340462</td>\n",
       "      <td>0.155229</td>\n",
       "      <td>0.0</td>\n",
       "      <td>2.390829</td>\n",
       "    </tr>\n",
       "    <tr>\n",
       "      <th>4</th>\n",
       "      <td>0.008700</td>\n",
       "      <td>0.0</td>\n",
       "      <td>0.0</td>\n",
       "      <td>0.027550</td>\n",
       "      <td>0.048392</td>\n",
       "      <td>11.507149</td>\n",
       "      <td>69.316119</td>\n",
       "      <td>0.0</td>\n",
       "      <td>0.000000</td>\n",
       "      <td>0.050824</td>\n",
       "      <td>1.801087</td>\n",
       "      <td>1.457124</td>\n",
       "      <td>0.106852</td>\n",
       "      <td>0.531547</td>\n",
       "      <td>0.0</td>\n",
       "      <td>15.144656</td>\n",
       "    </tr>\n",
       "    <tr>\n",
       "      <th rowspan=\"3\" valign=\"top\">2022</th>\n",
       "      <th>1</th>\n",
       "      <td>0.004611</td>\n",
       "      <td>0.0</td>\n",
       "      <td>0.0</td>\n",
       "      <td>0.004801</td>\n",
       "      <td>0.032472</td>\n",
       "      <td>18.448551</td>\n",
       "      <td>58.974574</td>\n",
       "      <td>0.0</td>\n",
       "      <td>0.000000</td>\n",
       "      <td>0.109185</td>\n",
       "      <td>0.594481</td>\n",
       "      <td>6.086778</td>\n",
       "      <td>0.609870</td>\n",
       "      <td>2.289602</td>\n",
       "      <td>0.0</td>\n",
       "      <td>12.845074</td>\n",
       "    </tr>\n",
       "    <tr>\n",
       "      <th>2</th>\n",
       "      <td>0.023347</td>\n",
       "      <td>0.0</td>\n",
       "      <td>0.0</td>\n",
       "      <td>0.014853</td>\n",
       "      <td>0.061442</td>\n",
       "      <td>11.108246</td>\n",
       "      <td>70.822972</td>\n",
       "      <td>0.0</td>\n",
       "      <td>0.000000</td>\n",
       "      <td>0.058608</td>\n",
       "      <td>0.925018</td>\n",
       "      <td>0.374265</td>\n",
       "      <td>1.993333</td>\n",
       "      <td>0.252424</td>\n",
       "      <td>0.0</td>\n",
       "      <td>14.365490</td>\n",
       "    </tr>\n",
       "    <tr>\n",
       "      <th>3</th>\n",
       "      <td>0.031155</td>\n",
       "      <td>0.0</td>\n",
       "      <td>0.0</td>\n",
       "      <td>0.025827</td>\n",
       "      <td>0.011436</td>\n",
       "      <td>13.484132</td>\n",
       "      <td>81.184159</td>\n",
       "      <td>0.0</td>\n",
       "      <td>0.000000</td>\n",
       "      <td>0.059823</td>\n",
       "      <td>0.125319</td>\n",
       "      <td>1.571556</td>\n",
       "      <td>0.623507</td>\n",
       "      <td>0.249087</td>\n",
       "      <td>0.0</td>\n",
       "      <td>2.633996</td>\n",
       "    </tr>\n",
       "  </tbody>\n",
       "</table>\n",
       "<p>75 rows × 16 columns</p>\n",
       "</div>"
      ],
      "text/plain": [
       "FUEL                DR  MGE  battery    biogas   biomass       coal  \\\n",
       "year quarter                                                          \n",
       "2004 1        0.000000  0.0      0.0  0.000000  0.000000  52.269281   \n",
       "     2        0.000000  0.0      0.0  0.000000  0.000000  52.508393   \n",
       "     3        0.000000  0.0      0.0  0.000000  0.000000  59.181880   \n",
       "     4        0.000000  0.0      0.0  0.000000  0.000000  63.767255   \n",
       "2005 1        0.000000  0.0      0.0  0.000000  0.000000  72.442824   \n",
       "...                ...  ...      ...       ...       ...        ...   \n",
       "2021 3        0.000000  0.0      0.0  0.012604  0.014534  21.153551   \n",
       "     4        0.008700  0.0      0.0  0.027550  0.048392  11.507149   \n",
       "2022 1        0.004611  0.0      0.0  0.004801  0.032472  18.448551   \n",
       "     2        0.023347  0.0      0.0  0.014853  0.061442  11.108246   \n",
       "     3        0.031155  0.0      0.0  0.025827  0.011436  13.484132   \n",
       "\n",
       "FUEL                gas  hydro  imported      misc   nuclear       oil  \\\n",
       "year quarter                                                             \n",
       "2004 1        38.525705    0.0  0.915755  0.000000  0.000000  6.820216   \n",
       "     2        31.671506    0.0  2.739629  0.000000  0.000000  9.861695   \n",
       "     3        30.146150    0.0  3.291789  0.000000  0.000000  4.531917   \n",
       "     4        24.591096    0.0  6.199135  0.000000  0.000000  4.642733   \n",
       "2005 1        16.154519    0.0  1.566292  0.019931  0.000000  7.998490   \n",
       "...                 ...    ...       ...       ...       ...       ...   \n",
       "2021 3        72.801268    0.0  0.000000  0.035091  0.854665  2.241769   \n",
       "     4        69.316119    0.0  0.000000  0.050824  1.801087  1.457124   \n",
       "2022 1        58.974574    0.0  0.000000  0.109185  0.594481  6.086778   \n",
       "     2        70.822972    0.0  0.000000  0.058608  0.925018  0.374265   \n",
       "     3        81.184159    0.0  0.000000  0.059823  0.125319  1.571556   \n",
       "\n",
       "FUEL             solar   unknown  virtualsale       wind  \n",
       "year quarter                                              \n",
       "2004 1        0.000000  1.469042          0.0   0.000000  \n",
       "     2        0.000000  3.218777          0.0   0.000000  \n",
       "     3        0.000000  2.843862          0.0   0.004402  \n",
       "     4        0.000000  0.797262          0.0   0.002518  \n",
       "2005 1        0.000000  1.817945          0.0   0.000000  \n",
       "...                ...       ...          ...        ...  \n",
       "2021 3        0.340462  0.155229          0.0   2.390829  \n",
       "     4        0.106852  0.531547          0.0  15.144656  \n",
       "2022 1        0.609870  2.289602          0.0  12.845074  \n",
       "     2        1.993333  0.252424          0.0  14.365490  \n",
       "     3        0.623507  0.249087          0.0   2.633996  \n",
       "\n",
       "[75 rows x 16 columns]"
      ]
     },
     "execution_count": 23,
     "metadata": {},
     "output_type": "execute_result"
    }
   ],
   "source": [
    "# Group by Quarter \n",
    "\n",
    "df2 = df.groupby(pd.PeriodIndex(df.reset_index()['DATETIME_ESTn'], freq=\"Q\")).mean()\n",
    "# df2 = df.groupby([(df.index.year), (df.index.month)]).mean()\n",
    "mux = pd.MultiIndex.from_arrays([df2.index.year, df2.index.quarter], names=['year','quarter'])\n",
    "mux\n",
    "df2.index = mux\n",
    "\n",
    "\n",
    "datestart = '2003-12-31'\n",
    "dateend = '2023-12-31'\n",
    "\n",
    "df2 = df2.loc[datestart:dateend]\n",
    "df2['unknown'] = 100 - df2.drop('unknown', axis=1).sum(axis=1)\n",
    "df2\n"
   ]
  },
  {
   "cell_type": "code",
   "execution_count": 20,
   "metadata": {},
   "outputs": [
    {
     "name": "stdout",
     "output_type": "stream",
     "text": [
      "{'DR': 'azure', 'MGE': 'gainsboro', 'battery': 'green', 'biogas': 'darkseagreen', 'biomass': 'lightgreen', 'coal': 'black', 'gas': 'red', 'hydro': 'lightskyblue', 'imported': 'lightgrey', 'misc': 'lightsalmon', 'nuclear': 'peru', 'oil': 'orangered', 'solar': 'yellow', 'unknown': 'lightgrey', 'virtualsale': 'lightgrey', 'wind': 'blue'}\n"
     ]
    }
   ],
   "source": [
    "cdf = pd.read_csv('colormap_byfuel.csv', header=None, index_col=[0])\n",
    "for index, row in cdf.transpose().iterrows():\n",
    "    cmapdict = row.to_dict()\n",
    "    print(cmapdict)"
   ]
  },
  {
   "cell_type": "code",
   "execution_count": 21,
   "metadata": {},
   "outputs": [
    {
     "data": {
      "text/plain": [
       "'azure'"
      ]
     },
     "execution_count": 21,
     "metadata": {},
     "output_type": "execute_result"
    }
   ],
   "source": [
    "cmapdict[tech]"
   ]
  },
  {
   "cell_type": "code",
   "execution_count": 26,
   "metadata": {},
   "outputs": [
    {
     "data": {
      "application/vnd.plotly.v1+json": {
       "config": {
        "plotlyServerURL": "https://plot.ly"
       },
       "data": [
        {
         "hoverinfo": "name+x+y",
         "hovertemplate": "%{x}Q, %{y:.1f}%",
         "marker": {
          "color": "azure"
         },
         "name": "DR",
         "showlegend": true,
         "type": "bar",
         "width": 1,
         "x": [
          [
           2004,
           2004,
           2004,
           2004,
           2005,
           2005,
           2005,
           2005,
           2006,
           2006,
           2006,
           2006,
           2007,
           2007,
           2007,
           2007,
           2008,
           2008,
           2008,
           2008,
           2009,
           2009,
           2009,
           2009,
           2010,
           2010,
           2010,
           2010,
           2011,
           2011,
           2011,
           2011,
           2012,
           2012,
           2012,
           2012,
           2013,
           2013,
           2013,
           2013,
           2014,
           2014,
           2014,
           2014,
           2015,
           2015,
           2015,
           2015,
           2016,
           2016,
           2016,
           2016,
           2017,
           2017,
           2017,
           2017,
           2018,
           2018,
           2018,
           2018,
           2019,
           2019,
           2019,
           2019,
           2020,
           2020,
           2020,
           2020,
           2021,
           2021,
           2021,
           2021,
           2022,
           2022,
           2022
          ],
          [
           1,
           2,
           3,
           4,
           1,
           2,
           3,
           4,
           1,
           2,
           3,
           4,
           1,
           2,
           3,
           4,
           1,
           2,
           3,
           4,
           1,
           2,
           3,
           4,
           1,
           2,
           3,
           4,
           1,
           2,
           3,
           4,
           1,
           2,
           3,
           4,
           1,
           2,
           3,
           4,
           1,
           2,
           3,
           4,
           1,
           2,
           3,
           4,
           1,
           2,
           3,
           4,
           1,
           2,
           3,
           4,
           1,
           2,
           3,
           4,
           1,
           2,
           3,
           4,
           1,
           2,
           3,
           4,
           1,
           2,
           3,
           4,
           1,
           2,
           3
          ],
          [
           [
            2004,
            1
           ],
           [
            2004,
            2
           ],
           [
            2004,
            3
           ],
           [
            2004,
            4
           ],
           [
            2005,
            1
           ],
           [
            2005,
            2
           ],
           [
            2005,
            3
           ],
           [
            2005,
            4
           ],
           [
            2006,
            1
           ],
           [
            2006,
            2
           ],
           [
            2006,
            3
           ],
           [
            2006,
            4
           ],
           [
            2007,
            1
           ],
           [
            2007,
            2
           ],
           [
            2007,
            3
           ],
           [
            2007,
            4
           ],
           [
            2008,
            1
           ],
           [
            2008,
            2
           ],
           [
            2008,
            3
           ],
           [
            2008,
            4
           ],
           [
            2009,
            1
           ],
           [
            2009,
            2
           ],
           [
            2009,
            3
           ],
           [
            2009,
            4
           ],
           [
            2010,
            1
           ],
           [
            2010,
            2
           ],
           [
            2010,
            3
           ],
           [
            2010,
            4
           ],
           [
            2011,
            1
           ],
           [
            2011,
            2
           ],
           [
            2011,
            3
           ],
           [
            2011,
            4
           ],
           [
            2012,
            1
           ],
           [
            2012,
            2
           ],
           [
            2012,
            3
           ],
           [
            2012,
            4
           ],
           [
            2013,
            1
           ],
           [
            2013,
            2
           ],
           [
            2013,
            3
           ],
           [
            2013,
            4
           ],
           [
            2014,
            1
           ],
           [
            2014,
            2
           ],
           [
            2014,
            3
           ],
           [
            2014,
            4
           ],
           [
            2015,
            1
           ],
           [
            2015,
            2
           ],
           [
            2015,
            3
           ],
           [
            2015,
            4
           ],
           [
            2016,
            1
           ],
           [
            2016,
            2
           ],
           [
            2016,
            3
           ],
           [
            2016,
            4
           ],
           [
            2017,
            1
           ],
           [
            2017,
            2
           ],
           [
            2017,
            3
           ],
           [
            2017,
            4
           ],
           [
            2018,
            1
           ],
           [
            2018,
            2
           ],
           [
            2018,
            3
           ],
           [
            2018,
            4
           ],
           [
            2019,
            1
           ],
           [
            2019,
            2
           ],
           [
            2019,
            3
           ],
           [
            2019,
            4
           ],
           [
            2020,
            1
           ],
           [
            2020,
            2
           ],
           [
            2020,
            3
           ],
           [
            2020,
            4
           ],
           [
            2021,
            1
           ],
           [
            2021,
            2
           ],
           [
            2021,
            3
           ],
           [
            2021,
            4
           ],
           [
            2022,
            1
           ],
           [
            2022,
            2
           ],
           [
            2022,
            3
           ]
          ]
         ],
         "y": [
          0,
          0,
          0,
          0,
          0,
          0,
          0,
          0,
          0,
          0,
          0,
          0,
          0,
          0,
          0,
          0,
          0,
          0,
          0,
          0,
          0,
          0,
          0,
          0,
          0,
          0,
          0,
          0,
          0,
          0,
          0,
          0,
          0,
          0,
          0,
          0,
          0,
          0,
          0.1876177536231884,
          0,
          0.22150462962962963,
          0,
          0,
          0,
          0,
          0,
          0,
          0,
          0,
          0,
          0,
          0,
          0,
          0,
          0,
          0,
          0,
          0,
          0,
          0,
          0,
          0,
          0,
          0,
          0,
          0,
          0,
          0,
          0,
          0,
          0,
          0.00870018115942029,
          0.004611111111111112,
          0.023347069597069597,
          0.0311554145899411
         ]
        },
        {
         "hoverinfo": "name+x+y",
         "hovertemplate": "%{x}Q, %{y:.1f}%",
         "marker": {
          "color": "gainsboro"
         },
         "name": "MGE",
         "showlegend": true,
         "type": "bar",
         "width": 1,
         "x": [
          [
           2004,
           2004,
           2004,
           2004,
           2005,
           2005,
           2005,
           2005,
           2006,
           2006,
           2006,
           2006,
           2007,
           2007,
           2007,
           2007,
           2008,
           2008,
           2008,
           2008,
           2009,
           2009,
           2009,
           2009,
           2010,
           2010,
           2010,
           2010,
           2011,
           2011,
           2011,
           2011,
           2012,
           2012,
           2012,
           2012,
           2013,
           2013,
           2013,
           2013,
           2014,
           2014,
           2014,
           2014,
           2015,
           2015,
           2015,
           2015,
           2016,
           2016,
           2016,
           2016,
           2017,
           2017,
           2017,
           2017,
           2018,
           2018,
           2018,
           2018,
           2019,
           2019,
           2019,
           2019,
           2020,
           2020,
           2020,
           2020,
           2021,
           2021,
           2021,
           2021,
           2022,
           2022,
           2022
          ],
          [
           1,
           2,
           3,
           4,
           1,
           2,
           3,
           4,
           1,
           2,
           3,
           4,
           1,
           2,
           3,
           4,
           1,
           2,
           3,
           4,
           1,
           2,
           3,
           4,
           1,
           2,
           3,
           4,
           1,
           2,
           3,
           4,
           1,
           2,
           3,
           4,
           1,
           2,
           3,
           4,
           1,
           2,
           3,
           4,
           1,
           2,
           3,
           4,
           1,
           2,
           3,
           4,
           1,
           2,
           3,
           4,
           1,
           2,
           3,
           4,
           1,
           2,
           3,
           4,
           1,
           2,
           3,
           4,
           1,
           2,
           3,
           4,
           1,
           2,
           3
          ],
          [
           [
            2004,
            1
           ],
           [
            2004,
            2
           ],
           [
            2004,
            3
           ],
           [
            2004,
            4
           ],
           [
            2005,
            1
           ],
           [
            2005,
            2
           ],
           [
            2005,
            3
           ],
           [
            2005,
            4
           ],
           [
            2006,
            1
           ],
           [
            2006,
            2
           ],
           [
            2006,
            3
           ],
           [
            2006,
            4
           ],
           [
            2007,
            1
           ],
           [
            2007,
            2
           ],
           [
            2007,
            3
           ],
           [
            2007,
            4
           ],
           [
            2008,
            1
           ],
           [
            2008,
            2
           ],
           [
            2008,
            3
           ],
           [
            2008,
            4
           ],
           [
            2009,
            1
           ],
           [
            2009,
            2
           ],
           [
            2009,
            3
           ],
           [
            2009,
            4
           ],
           [
            2010,
            1
           ],
           [
            2010,
            2
           ],
           [
            2010,
            3
           ],
           [
            2010,
            4
           ],
           [
            2011,
            1
           ],
           [
            2011,
            2
           ],
           [
            2011,
            3
           ],
           [
            2011,
            4
           ],
           [
            2012,
            1
           ],
           [
            2012,
            2
           ],
           [
            2012,
            3
           ],
           [
            2012,
            4
           ],
           [
            2013,
            1
           ],
           [
            2013,
            2
           ],
           [
            2013,
            3
           ],
           [
            2013,
            4
           ],
           [
            2014,
            1
           ],
           [
            2014,
            2
           ],
           [
            2014,
            3
           ],
           [
            2014,
            4
           ],
           [
            2015,
            1
           ],
           [
            2015,
            2
           ],
           [
            2015,
            3
           ],
           [
            2015,
            4
           ],
           [
            2016,
            1
           ],
           [
            2016,
            2
           ],
           [
            2016,
            3
           ],
           [
            2016,
            4
           ],
           [
            2017,
            1
           ],
           [
            2017,
            2
           ],
           [
            2017,
            3
           ],
           [
            2017,
            4
           ],
           [
            2018,
            1
           ],
           [
            2018,
            2
           ],
           [
            2018,
            3
           ],
           [
            2018,
            4
           ],
           [
            2019,
            1
           ],
           [
            2019,
            2
           ],
           [
            2019,
            3
           ],
           [
            2019,
            4
           ],
           [
            2020,
            1
           ],
           [
            2020,
            2
           ],
           [
            2020,
            3
           ],
           [
            2020,
            4
           ],
           [
            2021,
            1
           ],
           [
            2021,
            2
           ],
           [
            2021,
            3
           ],
           [
            2021,
            4
           ],
           [
            2022,
            1
           ],
           [
            2022,
            2
           ],
           [
            2022,
            3
           ]
          ]
         ],
         "y": [
          0,
          0,
          0,
          0,
          0,
          0,
          0,
          0,
          0,
          0,
          0,
          0,
          0,
          0,
          0,
          0,
          0,
          0,
          0,
          0,
          0,
          0,
          0,
          0,
          0,
          0,
          0,
          0,
          0,
          0,
          0,
          0,
          0,
          0,
          0,
          0,
          0.027620370370370368,
          0.24500457875457876,
          0.661653079710145,
          0.08195199275362319,
          0.012268518518518519,
          0.08298076923076923,
          0.4992844202898551,
          0,
          0.007717592592592592,
          0.07043040293040292,
          0.09489583333333333,
          0.13311141304347823,
          0.026167582417582415,
          0.3292490842490843,
          0.0470018115942029,
          0,
          0.00712037037037037,
          0.18195054945054945,
          0.10368659420289855,
          0,
          0.03264814814814815,
          0.036978021978021976,
          0.10945199275362319,
          0,
          0.04725925925925926,
          0.17848443223443222,
          0,
          0,
          0,
          0,
          0,
          0,
          0,
          0,
          0,
          0,
          0,
          0,
          0
         ]
        },
        {
         "hoverinfo": "name+x+y",
         "hovertemplate": "%{x}Q, %{y:.1f}%",
         "marker": {
          "color": "green"
         },
         "name": "battery",
         "showlegend": true,
         "type": "bar",
         "width": 1,
         "x": [
          [
           2004,
           2004,
           2004,
           2004,
           2005,
           2005,
           2005,
           2005,
           2006,
           2006,
           2006,
           2006,
           2007,
           2007,
           2007,
           2007,
           2008,
           2008,
           2008,
           2008,
           2009,
           2009,
           2009,
           2009,
           2010,
           2010,
           2010,
           2010,
           2011,
           2011,
           2011,
           2011,
           2012,
           2012,
           2012,
           2012,
           2013,
           2013,
           2013,
           2013,
           2014,
           2014,
           2014,
           2014,
           2015,
           2015,
           2015,
           2015,
           2016,
           2016,
           2016,
           2016,
           2017,
           2017,
           2017,
           2017,
           2018,
           2018,
           2018,
           2018,
           2019,
           2019,
           2019,
           2019,
           2020,
           2020,
           2020,
           2020,
           2021,
           2021,
           2021,
           2021,
           2022,
           2022,
           2022
          ],
          [
           1,
           2,
           3,
           4,
           1,
           2,
           3,
           4,
           1,
           2,
           3,
           4,
           1,
           2,
           3,
           4,
           1,
           2,
           3,
           4,
           1,
           2,
           3,
           4,
           1,
           2,
           3,
           4,
           1,
           2,
           3,
           4,
           1,
           2,
           3,
           4,
           1,
           2,
           3,
           4,
           1,
           2,
           3,
           4,
           1,
           2,
           3,
           4,
           1,
           2,
           3,
           4,
           1,
           2,
           3,
           4,
           1,
           2,
           3,
           4,
           1,
           2,
           3,
           4,
           1,
           2,
           3,
           4,
           1,
           2,
           3,
           4,
           1,
           2,
           3
          ],
          [
           [
            2004,
            1
           ],
           [
            2004,
            2
           ],
           [
            2004,
            3
           ],
           [
            2004,
            4
           ],
           [
            2005,
            1
           ],
           [
            2005,
            2
           ],
           [
            2005,
            3
           ],
           [
            2005,
            4
           ],
           [
            2006,
            1
           ],
           [
            2006,
            2
           ],
           [
            2006,
            3
           ],
           [
            2006,
            4
           ],
           [
            2007,
            1
           ],
           [
            2007,
            2
           ],
           [
            2007,
            3
           ],
           [
            2007,
            4
           ],
           [
            2008,
            1
           ],
           [
            2008,
            2
           ],
           [
            2008,
            3
           ],
           [
            2008,
            4
           ],
           [
            2009,
            1
           ],
           [
            2009,
            2
           ],
           [
            2009,
            3
           ],
           [
            2009,
            4
           ],
           [
            2010,
            1
           ],
           [
            2010,
            2
           ],
           [
            2010,
            3
           ],
           [
            2010,
            4
           ],
           [
            2011,
            1
           ],
           [
            2011,
            2
           ],
           [
            2011,
            3
           ],
           [
            2011,
            4
           ],
           [
            2012,
            1
           ],
           [
            2012,
            2
           ],
           [
            2012,
            3
           ],
           [
            2012,
            4
           ],
           [
            2013,
            1
           ],
           [
            2013,
            2
           ],
           [
            2013,
            3
           ],
           [
            2013,
            4
           ],
           [
            2014,
            1
           ],
           [
            2014,
            2
           ],
           [
            2014,
            3
           ],
           [
            2014,
            4
           ],
           [
            2015,
            1
           ],
           [
            2015,
            2
           ],
           [
            2015,
            3
           ],
           [
            2015,
            4
           ],
           [
            2016,
            1
           ],
           [
            2016,
            2
           ],
           [
            2016,
            3
           ],
           [
            2016,
            4
           ],
           [
            2017,
            1
           ],
           [
            2017,
            2
           ],
           [
            2017,
            3
           ],
           [
            2017,
            4
           ],
           [
            2018,
            1
           ],
           [
            2018,
            2
           ],
           [
            2018,
            3
           ],
           [
            2018,
            4
           ],
           [
            2019,
            1
           ],
           [
            2019,
            2
           ],
           [
            2019,
            3
           ],
           [
            2019,
            4
           ],
           [
            2020,
            1
           ],
           [
            2020,
            2
           ],
           [
            2020,
            3
           ],
           [
            2020,
            4
           ],
           [
            2021,
            1
           ],
           [
            2021,
            2
           ],
           [
            2021,
            3
           ],
           [
            2021,
            4
           ],
           [
            2022,
            1
           ],
           [
            2022,
            2
           ],
           [
            2022,
            3
           ]
          ]
         ],
         "y": [
          0,
          0,
          0,
          0,
          0,
          0,
          0,
          0,
          0,
          0,
          0,
          0,
          0,
          0,
          0,
          0,
          0,
          0,
          0,
          0,
          0,
          0,
          0,
          0,
          0,
          0,
          0,
          0,
          0,
          0,
          0,
          0.060131459655485046,
          0,
          0.0004761904761904762,
          0.5194384057971014,
          0,
          0,
          0,
          0,
          0,
          0,
          0,
          0,
          0,
          0,
          0,
          0,
          0,
          0,
          0,
          0,
          0,
          0,
          0,
          0,
          0,
          0,
          0,
          0,
          0,
          0,
          0,
          0,
          0,
          0,
          0,
          0,
          0,
          0,
          0,
          0,
          0,
          0,
          0,
          0
         ]
        },
        {
         "hoverinfo": "name+x+y",
         "hovertemplate": "%{x}Q, %{y:.1f}%",
         "marker": {
          "color": "darkseagreen"
         },
         "name": "biogas",
         "showlegend": true,
         "type": "bar",
         "width": 1,
         "x": [
          [
           2004,
           2004,
           2004,
           2004,
           2005,
           2005,
           2005,
           2005,
           2006,
           2006,
           2006,
           2006,
           2007,
           2007,
           2007,
           2007,
           2008,
           2008,
           2008,
           2008,
           2009,
           2009,
           2009,
           2009,
           2010,
           2010,
           2010,
           2010,
           2011,
           2011,
           2011,
           2011,
           2012,
           2012,
           2012,
           2012,
           2013,
           2013,
           2013,
           2013,
           2014,
           2014,
           2014,
           2014,
           2015,
           2015,
           2015,
           2015,
           2016,
           2016,
           2016,
           2016,
           2017,
           2017,
           2017,
           2017,
           2018,
           2018,
           2018,
           2018,
           2019,
           2019,
           2019,
           2019,
           2020,
           2020,
           2020,
           2020,
           2021,
           2021,
           2021,
           2021,
           2022,
           2022,
           2022
          ],
          [
           1,
           2,
           3,
           4,
           1,
           2,
           3,
           4,
           1,
           2,
           3,
           4,
           1,
           2,
           3,
           4,
           1,
           2,
           3,
           4,
           1,
           2,
           3,
           4,
           1,
           2,
           3,
           4,
           1,
           2,
           3,
           4,
           1,
           2,
           3,
           4,
           1,
           2,
           3,
           4,
           1,
           2,
           3,
           4,
           1,
           2,
           3,
           4,
           1,
           2,
           3,
           4,
           1,
           2,
           3,
           4,
           1,
           2,
           3,
           4,
           1,
           2,
           3,
           4,
           1,
           2,
           3,
           4,
           1,
           2,
           3,
           4,
           1,
           2,
           3
          ],
          [
           [
            2004,
            1
           ],
           [
            2004,
            2
           ],
           [
            2004,
            3
           ],
           [
            2004,
            4
           ],
           [
            2005,
            1
           ],
           [
            2005,
            2
           ],
           [
            2005,
            3
           ],
           [
            2005,
            4
           ],
           [
            2006,
            1
           ],
           [
            2006,
            2
           ],
           [
            2006,
            3
           ],
           [
            2006,
            4
           ],
           [
            2007,
            1
           ],
           [
            2007,
            2
           ],
           [
            2007,
            3
           ],
           [
            2007,
            4
           ],
           [
            2008,
            1
           ],
           [
            2008,
            2
           ],
           [
            2008,
            3
           ],
           [
            2008,
            4
           ],
           [
            2009,
            1
           ],
           [
            2009,
            2
           ],
           [
            2009,
            3
           ],
           [
            2009,
            4
           ],
           [
            2010,
            1
           ],
           [
            2010,
            2
           ],
           [
            2010,
            3
           ],
           [
            2010,
            4
           ],
           [
            2011,
            1
           ],
           [
            2011,
            2
           ],
           [
            2011,
            3
           ],
           [
            2011,
            4
           ],
           [
            2012,
            1
           ],
           [
            2012,
            2
           ],
           [
            2012,
            3
           ],
           [
            2012,
            4
           ],
           [
            2013,
            1
           ],
           [
            2013,
            2
           ],
           [
            2013,
            3
           ],
           [
            2013,
            4
           ],
           [
            2014,
            1
           ],
           [
            2014,
            2
           ],
           [
            2014,
            3
           ],
           [
            2014,
            4
           ],
           [
            2015,
            1
           ],
           [
            2015,
            2
           ],
           [
            2015,
            3
           ],
           [
            2015,
            4
           ],
           [
            2016,
            1
           ],
           [
            2016,
            2
           ],
           [
            2016,
            3
           ],
           [
            2016,
            4
           ],
           [
            2017,
            1
           ],
           [
            2017,
            2
           ],
           [
            2017,
            3
           ],
           [
            2017,
            4
           ],
           [
            2018,
            1
           ],
           [
            2018,
            2
           ],
           [
            2018,
            3
           ],
           [
            2018,
            4
           ],
           [
            2019,
            1
           ],
           [
            2019,
            2
           ],
           [
            2019,
            3
           ],
           [
            2019,
            4
           ],
           [
            2020,
            1
           ],
           [
            2020,
            2
           ],
           [
            2020,
            3
           ],
           [
            2020,
            4
           ],
           [
            2021,
            1
           ],
           [
            2021,
            2
           ],
           [
            2021,
            3
           ],
           [
            2021,
            4
           ],
           [
            2022,
            1
           ],
           [
            2022,
            2
           ],
           [
            2022,
            3
           ]
          ]
         ],
         "y": [
          0,
          0,
          0,
          0,
          0,
          0.1619047619047619,
          0.33320652173913046,
          0.22434329710144926,
          0.31516666666666665,
          0.3905265567765568,
          0.31455615942028986,
          0.024533514492753625,
          0.04140740740740741,
          0.022751831501831504,
          0.11146286231884059,
          0.09341485507246376,
          0.16639194139194138,
          0.15656135531135532,
          0.3534029038112523,
          0.1256683280471228,
          1.055398148148148,
          3.585398351648352,
          2.175869565217391,
          6.192830615942029,
          4.446972222222222,
          5.188260073260073,
          3.5163722826086956,
          4.649886775362319,
          5.543833333333334,
          2.489977106227106,
          5.623772644927536,
          3.7217724388032636,
          1.9417948717948719,
          2.3951556776556773,
          1.4887409420289854,
          1.0334709208400645,
          0.8253842592592592,
          0.607275641025641,
          0.39353260869565215,
          0.11515398550724637,
          0.2311388888888889,
          0.23604395604395603,
          0.1774320652173913,
          0.2671829710144928,
          0.9283194444444445,
          0.5068498168498169,
          0.1833106884057971,
          0.10656702898550725,
          0.10468864468864468,
          0.12941849816849815,
          0.12495923913043479,
          0.015384963768115942,
          0.057416666666666664,
          0.060810439560439564,
          0.09897192028985508,
          0.14589221014492754,
          0.09327314814814815,
          0.18079212454212457,
          0.029071557971014492,
          0.11077898550724638,
          0.016199074074074074,
          0.04400641025641026,
          0.02441576086956522,
          0.034451992753623185,
          0.011973443223443223,
          0.014674908424908423,
          0.013962862318840578,
          0.010991847826086957,
          0.021328703703703704,
          0.00440018315018315,
          0.012604166666666666,
          0.02754981884057971,
          0.0048009259259259255,
          0.014853479853479852,
          0.025826914363389217
         ]
        },
        {
         "hoverinfo": "name+x+y",
         "hovertemplate": "%{x}Q, %{y:.1f}%",
         "marker": {
          "color": "lightgreen"
         },
         "name": "biomass",
         "showlegend": true,
         "type": "bar",
         "width": 1,
         "x": [
          [
           2004,
           2004,
           2004,
           2004,
           2005,
           2005,
           2005,
           2005,
           2006,
           2006,
           2006,
           2006,
           2007,
           2007,
           2007,
           2007,
           2008,
           2008,
           2008,
           2008,
           2009,
           2009,
           2009,
           2009,
           2010,
           2010,
           2010,
           2010,
           2011,
           2011,
           2011,
           2011,
           2012,
           2012,
           2012,
           2012,
           2013,
           2013,
           2013,
           2013,
           2014,
           2014,
           2014,
           2014,
           2015,
           2015,
           2015,
           2015,
           2016,
           2016,
           2016,
           2016,
           2017,
           2017,
           2017,
           2017,
           2018,
           2018,
           2018,
           2018,
           2019,
           2019,
           2019,
           2019,
           2020,
           2020,
           2020,
           2020,
           2021,
           2021,
           2021,
           2021,
           2022,
           2022,
           2022
          ],
          [
           1,
           2,
           3,
           4,
           1,
           2,
           3,
           4,
           1,
           2,
           3,
           4,
           1,
           2,
           3,
           4,
           1,
           2,
           3,
           4,
           1,
           2,
           3,
           4,
           1,
           2,
           3,
           4,
           1,
           2,
           3,
           4,
           1,
           2,
           3,
           4,
           1,
           2,
           3,
           4,
           1,
           2,
           3,
           4,
           1,
           2,
           3,
           4,
           1,
           2,
           3,
           4,
           1,
           2,
           3,
           4,
           1,
           2,
           3,
           4,
           1,
           2,
           3,
           4,
           1,
           2,
           3,
           4,
           1,
           2,
           3,
           4,
           1,
           2,
           3
          ],
          [
           [
            2004,
            1
           ],
           [
            2004,
            2
           ],
           [
            2004,
            3
           ],
           [
            2004,
            4
           ],
           [
            2005,
            1
           ],
           [
            2005,
            2
           ],
           [
            2005,
            3
           ],
           [
            2005,
            4
           ],
           [
            2006,
            1
           ],
           [
            2006,
            2
           ],
           [
            2006,
            3
           ],
           [
            2006,
            4
           ],
           [
            2007,
            1
           ],
           [
            2007,
            2
           ],
           [
            2007,
            3
           ],
           [
            2007,
            4
           ],
           [
            2008,
            1
           ],
           [
            2008,
            2
           ],
           [
            2008,
            3
           ],
           [
            2008,
            4
           ],
           [
            2009,
            1
           ],
           [
            2009,
            2
           ],
           [
            2009,
            3
           ],
           [
            2009,
            4
           ],
           [
            2010,
            1
           ],
           [
            2010,
            2
           ],
           [
            2010,
            3
           ],
           [
            2010,
            4
           ],
           [
            2011,
            1
           ],
           [
            2011,
            2
           ],
           [
            2011,
            3
           ],
           [
            2011,
            4
           ],
           [
            2012,
            1
           ],
           [
            2012,
            2
           ],
           [
            2012,
            3
           ],
           [
            2012,
            4
           ],
           [
            2013,
            1
           ],
           [
            2013,
            2
           ],
           [
            2013,
            3
           ],
           [
            2013,
            4
           ],
           [
            2014,
            1
           ],
           [
            2014,
            2
           ],
           [
            2014,
            3
           ],
           [
            2014,
            4
           ],
           [
            2015,
            1
           ],
           [
            2015,
            2
           ],
           [
            2015,
            3
           ],
           [
            2015,
            4
           ],
           [
            2016,
            1
           ],
           [
            2016,
            2
           ],
           [
            2016,
            3
           ],
           [
            2016,
            4
           ],
           [
            2017,
            1
           ],
           [
            2017,
            2
           ],
           [
            2017,
            3
           ],
           [
            2017,
            4
           ],
           [
            2018,
            1
           ],
           [
            2018,
            2
           ],
           [
            2018,
            3
           ],
           [
            2018,
            4
           ],
           [
            2019,
            1
           ],
           [
            2019,
            2
           ],
           [
            2019,
            3
           ],
           [
            2019,
            4
           ],
           [
            2020,
            1
           ],
           [
            2020,
            2
           ],
           [
            2020,
            3
           ],
           [
            2020,
            4
           ],
           [
            2021,
            1
           ],
           [
            2021,
            2
           ],
           [
            2021,
            3
           ],
           [
            2021,
            4
           ],
           [
            2022,
            1
           ],
           [
            2022,
            2
           ],
           [
            2022,
            3
           ]
          ]
         ],
         "y": [
          0,
          0,
          0,
          0,
          0,
          0.02130952380952381,
          0.042142210144927535,
          0,
          0.005787037037037037,
          0.008177655677655677,
          0.036721014492753626,
          1.2173958333333332,
          1.1324999999999998,
          0.6789331501831501,
          0.04581521739130435,
          0.15211503623188405,
          0.04840201465201465,
          0.053878205128205126,
          0.051243194192377495,
          0.0664521975532397,
          0.02289351851851852,
          0.046552197802197805,
          0.03749094202898551,
          0.0471875,
          0.04591666666666666,
          0.06124999999999999,
          0.0313088768115942,
          0.06137228260869565,
          0.034083333333333334,
          0.03522435897435897,
          0.19669384057971015,
          0.19124206708975522,
          0.08674450549450549,
          0.11238553113553112,
          0.5285597826086956,
          0.09313004846526655,
          0.013337962962962963,
          0,
          0.0028306159420289855,
          0.018849637681159423,
          0.062037037037037036,
          0.04873168498168499,
          0.03692481884057971,
          0.07866847826086956,
          0.07114814814814815,
          0.1120467032967033,
          0.07860054347826086,
          0.08158967391304348,
          0.02996794871794872,
          0.005242673992673992,
          0,
          0,
          0.01599537037037037,
          0,
          0.028437500000000004,
          0,
          0,
          0.05200549450549451,
          0.01644927536231884,
          0.0030208333333333333,
          0.010675925925925926,
          0.0019917582417582416,
          0.0075905797101449264,
          0.017051630434782607,
          0.0028617216117216115,
          0.024885531135531134,
          0.005865036231884058,
          0.06292572463768116,
          0.012680555555555556,
          0.00673076923076923,
          0.014533514492753625,
          0.04839221014492753,
          0.03247222222222222,
          0.06144230769230769,
          0.01143633892161305
         ]
        },
        {
         "hoverinfo": "name+x+y",
         "hovertemplate": "%{x}Q, %{y:.1f}%",
         "marker": {
          "color": "black"
         },
         "name": "coal",
         "showlegend": true,
         "type": "bar",
         "width": 1,
         "x": [
          [
           2004,
           2004,
           2004,
           2004,
           2005,
           2005,
           2005,
           2005,
           2006,
           2006,
           2006,
           2006,
           2007,
           2007,
           2007,
           2007,
           2008,
           2008,
           2008,
           2008,
           2009,
           2009,
           2009,
           2009,
           2010,
           2010,
           2010,
           2010,
           2011,
           2011,
           2011,
           2011,
           2012,
           2012,
           2012,
           2012,
           2013,
           2013,
           2013,
           2013,
           2014,
           2014,
           2014,
           2014,
           2015,
           2015,
           2015,
           2015,
           2016,
           2016,
           2016,
           2016,
           2017,
           2017,
           2017,
           2017,
           2018,
           2018,
           2018,
           2018,
           2019,
           2019,
           2019,
           2019,
           2020,
           2020,
           2020,
           2020,
           2021,
           2021,
           2021,
           2021,
           2022,
           2022,
           2022
          ],
          [
           1,
           2,
           3,
           4,
           1,
           2,
           3,
           4,
           1,
           2,
           3,
           4,
           1,
           2,
           3,
           4,
           1,
           2,
           3,
           4,
           1,
           2,
           3,
           4,
           1,
           2,
           3,
           4,
           1,
           2,
           3,
           4,
           1,
           2,
           3,
           4,
           1,
           2,
           3,
           4,
           1,
           2,
           3,
           4,
           1,
           2,
           3,
           4,
           1,
           2,
           3,
           4,
           1,
           2,
           3,
           4,
           1,
           2,
           3,
           4,
           1,
           2,
           3,
           4,
           1,
           2,
           3,
           4,
           1,
           2,
           3,
           4,
           1,
           2,
           3
          ],
          [
           [
            2004,
            1
           ],
           [
            2004,
            2
           ],
           [
            2004,
            3
           ],
           [
            2004,
            4
           ],
           [
            2005,
            1
           ],
           [
            2005,
            2
           ],
           [
            2005,
            3
           ],
           [
            2005,
            4
           ],
           [
            2006,
            1
           ],
           [
            2006,
            2
           ],
           [
            2006,
            3
           ],
           [
            2006,
            4
           ],
           [
            2007,
            1
           ],
           [
            2007,
            2
           ],
           [
            2007,
            3
           ],
           [
            2007,
            4
           ],
           [
            2008,
            1
           ],
           [
            2008,
            2
           ],
           [
            2008,
            3
           ],
           [
            2008,
            4
           ],
           [
            2009,
            1
           ],
           [
            2009,
            2
           ],
           [
            2009,
            3
           ],
           [
            2009,
            4
           ],
           [
            2010,
            1
           ],
           [
            2010,
            2
           ],
           [
            2010,
            3
           ],
           [
            2010,
            4
           ],
           [
            2011,
            1
           ],
           [
            2011,
            2
           ],
           [
            2011,
            3
           ],
           [
            2011,
            4
           ],
           [
            2012,
            1
           ],
           [
            2012,
            2
           ],
           [
            2012,
            3
           ],
           [
            2012,
            4
           ],
           [
            2013,
            1
           ],
           [
            2013,
            2
           ],
           [
            2013,
            3
           ],
           [
            2013,
            4
           ],
           [
            2014,
            1
           ],
           [
            2014,
            2
           ],
           [
            2014,
            3
           ],
           [
            2014,
            4
           ],
           [
            2015,
            1
           ],
           [
            2015,
            2
           ],
           [
            2015,
            3
           ],
           [
            2015,
            4
           ],
           [
            2016,
            1
           ],
           [
            2016,
            2
           ],
           [
            2016,
            3
           ],
           [
            2016,
            4
           ],
           [
            2017,
            1
           ],
           [
            2017,
            2
           ],
           [
            2017,
            3
           ],
           [
            2017,
            4
           ],
           [
            2018,
            1
           ],
           [
            2018,
            2
           ],
           [
            2018,
            3
           ],
           [
            2018,
            4
           ],
           [
            2019,
            1
           ],
           [
            2019,
            2
           ],
           [
            2019,
            3
           ],
           [
            2019,
            4
           ],
           [
            2020,
            1
           ],
           [
            2020,
            2
           ],
           [
            2020,
            3
           ],
           [
            2020,
            4
           ],
           [
            2021,
            1
           ],
           [
            2021,
            2
           ],
           [
            2021,
            3
           ],
           [
            2021,
            4
           ],
           [
            2022,
            1
           ],
           [
            2022,
            2
           ],
           [
            2022,
            3
           ]
          ]
         ],
         "y": [
          52.26928113553114,
          52.50839285714286,
          59.181879528985505,
          63.76725543478261,
          72.44282407407407,
          64.51141483516483,
          56.72990489130435,
          72.65096467391304,
          77.42979166666667,
          72.88743589743589,
          55.87401721014493,
          70.21947916666666,
          64.27994907407408,
          62.37512362637362,
          70.04747735507246,
          72.93196557971014,
          78.41925366300366,
          74.28837912087913,
          74.05250453720508,
          84.64588581785229,
          79.20054166666667,
          72.07043040293041,
          71.8715579710145,
          68.32024003623188,
          71.21653703703704,
          69.71633241758242,
          65.00361413043478,
          68.79658061594203,
          66.94175231481482,
          63.88772664835165,
          43.951419836956525,
          41.19370806890299,
          36.608562271062276,
          36.139178113553115,
          29.181398097826087,
          53.58204200323102,
          58.53067592592593,
          54.65534798534799,
          57.56114130434783,
          55.43933876811594,
          43.949071759259255,
          49.50640796703296,
          50.24220561594203,
          46.49722826086957,
          49.742099537037035,
          47.01875457875458,
          49.17229619565218,
          37.29349411231884,
          41.39064331501831,
          42.06257554945055,
          42.69125,
          45.23853260869566,
          35.725754629629634,
          38.06813644688645,
          35.23925045289855,
          35.18100543478261,
          34.20779398148149,
          33.451829212454214,
          32.76579710144928,
          23.371598731884056,
          30.632694444444443,
          30.609583333333333,
          31.450491394927536,
          26.2775294384058,
          25.28378663003663,
          21.886302655677653,
          25.64805706521739,
          24.878503170289854,
          22.976192129629627,
          22.197978479853482,
          21.153550724637682,
          11.507149003623189,
          18.44855092592593,
          11.108246336996338,
          13.484132306298141
         ]
        },
        {
         "hoverinfo": "name+x+y",
         "hovertemplate": "%{x}Q, %{y:.1f}%",
         "marker": {
          "color": "red"
         },
         "name": "gas",
         "showlegend": true,
         "type": "bar",
         "width": 1,
         "x": [
          [
           2004,
           2004,
           2004,
           2004,
           2005,
           2005,
           2005,
           2005,
           2006,
           2006,
           2006,
           2006,
           2007,
           2007,
           2007,
           2007,
           2008,
           2008,
           2008,
           2008,
           2009,
           2009,
           2009,
           2009,
           2010,
           2010,
           2010,
           2010,
           2011,
           2011,
           2011,
           2011,
           2012,
           2012,
           2012,
           2012,
           2013,
           2013,
           2013,
           2013,
           2014,
           2014,
           2014,
           2014,
           2015,
           2015,
           2015,
           2015,
           2016,
           2016,
           2016,
           2016,
           2017,
           2017,
           2017,
           2017,
           2018,
           2018,
           2018,
           2018,
           2019,
           2019,
           2019,
           2019,
           2020,
           2020,
           2020,
           2020,
           2021,
           2021,
           2021,
           2021,
           2022,
           2022,
           2022
          ],
          [
           1,
           2,
           3,
           4,
           1,
           2,
           3,
           4,
           1,
           2,
           3,
           4,
           1,
           2,
           3,
           4,
           1,
           2,
           3,
           4,
           1,
           2,
           3,
           4,
           1,
           2,
           3,
           4,
           1,
           2,
           3,
           4,
           1,
           2,
           3,
           4,
           1,
           2,
           3,
           4,
           1,
           2,
           3,
           4,
           1,
           2,
           3,
           4,
           1,
           2,
           3,
           4,
           1,
           2,
           3,
           4,
           1,
           2,
           3,
           4,
           1,
           2,
           3,
           4,
           1,
           2,
           3,
           4,
           1,
           2,
           3,
           4,
           1,
           2,
           3
          ],
          [
           [
            2004,
            1
           ],
           [
            2004,
            2
           ],
           [
            2004,
            3
           ],
           [
            2004,
            4
           ],
           [
            2005,
            1
           ],
           [
            2005,
            2
           ],
           [
            2005,
            3
           ],
           [
            2005,
            4
           ],
           [
            2006,
            1
           ],
           [
            2006,
            2
           ],
           [
            2006,
            3
           ],
           [
            2006,
            4
           ],
           [
            2007,
            1
           ],
           [
            2007,
            2
           ],
           [
            2007,
            3
           ],
           [
            2007,
            4
           ],
           [
            2008,
            1
           ],
           [
            2008,
            2
           ],
           [
            2008,
            3
           ],
           [
            2008,
            4
           ],
           [
            2009,
            1
           ],
           [
            2009,
            2
           ],
           [
            2009,
            3
           ],
           [
            2009,
            4
           ],
           [
            2010,
            1
           ],
           [
            2010,
            2
           ],
           [
            2010,
            3
           ],
           [
            2010,
            4
           ],
           [
            2011,
            1
           ],
           [
            2011,
            2
           ],
           [
            2011,
            3
           ],
           [
            2011,
            4
           ],
           [
            2012,
            1
           ],
           [
            2012,
            2
           ],
           [
            2012,
            3
           ],
           [
            2012,
            4
           ],
           [
            2013,
            1
           ],
           [
            2013,
            2
           ],
           [
            2013,
            3
           ],
           [
            2013,
            4
           ],
           [
            2014,
            1
           ],
           [
            2014,
            2
           ],
           [
            2014,
            3
           ],
           [
            2014,
            4
           ],
           [
            2015,
            1
           ],
           [
            2015,
            2
           ],
           [
            2015,
            3
           ],
           [
            2015,
            4
           ],
           [
            2016,
            1
           ],
           [
            2016,
            2
           ],
           [
            2016,
            3
           ],
           [
            2016,
            4
           ],
           [
            2017,
            1
           ],
           [
            2017,
            2
           ],
           [
            2017,
            3
           ],
           [
            2017,
            4
           ],
           [
            2018,
            1
           ],
           [
            2018,
            2
           ],
           [
            2018,
            3
           ],
           [
            2018,
            4
           ],
           [
            2019,
            1
           ],
           [
            2019,
            2
           ],
           [
            2019,
            3
           ],
           [
            2019,
            4
           ],
           [
            2020,
            1
           ],
           [
            2020,
            2
           ],
           [
            2020,
            3
           ],
           [
            2020,
            4
           ],
           [
            2021,
            1
           ],
           [
            2021,
            2
           ],
           [
            2021,
            3
           ],
           [
            2021,
            4
           ],
           [
            2022,
            1
           ],
           [
            2022,
            2
           ],
           [
            2022,
            3
           ]
          ]
         ],
         "y": [
          38.525705128205125,
          31.671506410256413,
          30.14615036231884,
          24.591096014492752,
          16.15451851851852,
          22.63290293040293,
          31.94139945652174,
          21.657667572463765,
          17.825407407407408,
          22.6230815018315,
          33.4615919384058,
          24.07018115942029,
          29.279370370370373,
          29.465240384615385,
          23.085477807971014,
          20.765208333333334,
          16.823269230769228,
          18.22533882783883,
          20.67672867513612,
          11.839646579066606,
          13.679738425925926,
          17.72032967032967,
          20.314171195652175,
          22.32713768115942,
          21.800166666666666,
          19.6546336996337,
          25.08501358695652,
          23.616951992753624,
          24.826324074074073,
          23.05250457875458,
          34.89478260869565,
          35.25849954669084,
          45.13551282051282,
          40.636469780219784,
          43.54299954710145,
          29.404889337641354,
          30.75502314814815,
          33.39807692307692,
          32.61363224637681,
          33.893079710144924,
          37.43395833333334,
          38.85885989010989,
          43.26213315217391,
          24.940652173913044,
          34.94948611111111,
          37.37096611721612,
          44.0720018115942,
          41.766340579710146,
          43.13867216117216,
          43.17278388278388,
          40.32189311594203,
          43.13719202898551,
          44.22609722222222,
          45.99554945054945,
          51.72140851449275,
          49.47819293478261,
          53.018967592592595,
          56.88268315018315,
          59.35250905797101,
          60.01201086956521,
          62.462037037037035,
          63.18247252747252,
          62.704660326086966,
          62.48132246376812,
          64.81521062271062,
          67.33224358974358,
          66.13129528985507,
          62.693519021739135,
          66.11946296296297,
          64.20584249084249,
          72.80126811594204,
          69.31611865942028,
          58.97457407407408,
          70.82297161172161,
          81.18415949252379
         ]
        },
        {
         "hoverinfo": "name+x+y",
         "hovertemplate": "%{x}Q, %{y:.1f}%",
         "marker": {
          "color": "lightskyblue"
         },
         "name": "hydro",
         "showlegend": true,
         "type": "bar",
         "width": 1,
         "x": [
          [
           2004,
           2004,
           2004,
           2004,
           2005,
           2005,
           2005,
           2005,
           2006,
           2006,
           2006,
           2006,
           2007,
           2007,
           2007,
           2007,
           2008,
           2008,
           2008,
           2008,
           2009,
           2009,
           2009,
           2009,
           2010,
           2010,
           2010,
           2010,
           2011,
           2011,
           2011,
           2011,
           2012,
           2012,
           2012,
           2012,
           2013,
           2013,
           2013,
           2013,
           2014,
           2014,
           2014,
           2014,
           2015,
           2015,
           2015,
           2015,
           2016,
           2016,
           2016,
           2016,
           2017,
           2017,
           2017,
           2017,
           2018,
           2018,
           2018,
           2018,
           2019,
           2019,
           2019,
           2019,
           2020,
           2020,
           2020,
           2020,
           2021,
           2021,
           2021,
           2021,
           2022,
           2022,
           2022
          ],
          [
           1,
           2,
           3,
           4,
           1,
           2,
           3,
           4,
           1,
           2,
           3,
           4,
           1,
           2,
           3,
           4,
           1,
           2,
           3,
           4,
           1,
           2,
           3,
           4,
           1,
           2,
           3,
           4,
           1,
           2,
           3,
           4,
           1,
           2,
           3,
           4,
           1,
           2,
           3,
           4,
           1,
           2,
           3,
           4,
           1,
           2,
           3,
           4,
           1,
           2,
           3,
           4,
           1,
           2,
           3,
           4,
           1,
           2,
           3,
           4,
           1,
           2,
           3,
           4,
           1,
           2,
           3,
           4,
           1,
           2,
           3,
           4,
           1,
           2,
           3
          ],
          [
           [
            2004,
            1
           ],
           [
            2004,
            2
           ],
           [
            2004,
            3
           ],
           [
            2004,
            4
           ],
           [
            2005,
            1
           ],
           [
            2005,
            2
           ],
           [
            2005,
            3
           ],
           [
            2005,
            4
           ],
           [
            2006,
            1
           ],
           [
            2006,
            2
           ],
           [
            2006,
            3
           ],
           [
            2006,
            4
           ],
           [
            2007,
            1
           ],
           [
            2007,
            2
           ],
           [
            2007,
            3
           ],
           [
            2007,
            4
           ],
           [
            2008,
            1
           ],
           [
            2008,
            2
           ],
           [
            2008,
            3
           ],
           [
            2008,
            4
           ],
           [
            2009,
            1
           ],
           [
            2009,
            2
           ],
           [
            2009,
            3
           ],
           [
            2009,
            4
           ],
           [
            2010,
            1
           ],
           [
            2010,
            2
           ],
           [
            2010,
            3
           ],
           [
            2010,
            4
           ],
           [
            2011,
            1
           ],
           [
            2011,
            2
           ],
           [
            2011,
            3
           ],
           [
            2011,
            4
           ],
           [
            2012,
            1
           ],
           [
            2012,
            2
           ],
           [
            2012,
            3
           ],
           [
            2012,
            4
           ],
           [
            2013,
            1
           ],
           [
            2013,
            2
           ],
           [
            2013,
            3
           ],
           [
            2013,
            4
           ],
           [
            2014,
            1
           ],
           [
            2014,
            2
           ],
           [
            2014,
            3
           ],
           [
            2014,
            4
           ],
           [
            2015,
            1
           ],
           [
            2015,
            2
           ],
           [
            2015,
            3
           ],
           [
            2015,
            4
           ],
           [
            2016,
            1
           ],
           [
            2016,
            2
           ],
           [
            2016,
            3
           ],
           [
            2016,
            4
           ],
           [
            2017,
            1
           ],
           [
            2017,
            2
           ],
           [
            2017,
            3
           ],
           [
            2017,
            4
           ],
           [
            2018,
            1
           ],
           [
            2018,
            2
           ],
           [
            2018,
            3
           ],
           [
            2018,
            4
           ],
           [
            2019,
            1
           ],
           [
            2019,
            2
           ],
           [
            2019,
            3
           ],
           [
            2019,
            4
           ],
           [
            2020,
            1
           ],
           [
            2020,
            2
           ],
           [
            2020,
            3
           ],
           [
            2020,
            4
           ],
           [
            2021,
            1
           ],
           [
            2021,
            2
           ],
           [
            2021,
            3
           ],
           [
            2021,
            4
           ],
           [
            2022,
            1
           ],
           [
            2022,
            2
           ],
           [
            2022,
            3
           ]
          ]
         ],
         "y": [
          0,
          0,
          0,
          0,
          0,
          0,
          0,
          0,
          0,
          0,
          0,
          0.029248188405797102,
          0,
          0.008585164835164836,
          0.01142663043478261,
          0.013020833333333334,
          0,
          0.05199175824175824,
          0.0056715063520871144,
          0.0009424558223833259,
          0.04565277777777778,
          0.05416208791208791,
          0.030031702898550727,
          0.051594202898550726,
          0.014921296296296299,
          0.09847069597069597,
          0,
          0,
          0.0038564814814814816,
          0.021616300366300367,
          0.0311911231884058,
          0.0034632819582955574,
          0.024418498168498167,
          0,
          0.02025815217391304,
          0,
          0,
          0,
          0,
          0,
          0,
          0,
          0,
          0,
          0,
          0,
          0,
          0,
          0,
          0,
          0,
          0,
          0,
          0,
          0,
          0,
          0,
          0,
          0,
          0,
          0,
          0,
          0,
          0,
          0,
          0,
          0,
          0,
          0,
          0,
          0,
          0,
          0,
          0,
          0
         ]
        },
        {
         "hoverinfo": "name+x+y",
         "hovertemplate": "%{x}Q, %{y:.1f}%",
         "marker": {
          "color": "lightgrey"
         },
         "name": "imported",
         "showlegend": true,
         "type": "bar",
         "width": 1,
         "x": [
          [
           2004,
           2004,
           2004,
           2004,
           2005,
           2005,
           2005,
           2005,
           2006,
           2006,
           2006,
           2006,
           2007,
           2007,
           2007,
           2007,
           2008,
           2008,
           2008,
           2008,
           2009,
           2009,
           2009,
           2009,
           2010,
           2010,
           2010,
           2010,
           2011,
           2011,
           2011,
           2011,
           2012,
           2012,
           2012,
           2012,
           2013,
           2013,
           2013,
           2013,
           2014,
           2014,
           2014,
           2014,
           2015,
           2015,
           2015,
           2015,
           2016,
           2016,
           2016,
           2016,
           2017,
           2017,
           2017,
           2017,
           2018,
           2018,
           2018,
           2018,
           2019,
           2019,
           2019,
           2019,
           2020,
           2020,
           2020,
           2020,
           2021,
           2021,
           2021,
           2021,
           2022,
           2022,
           2022
          ],
          [
           1,
           2,
           3,
           4,
           1,
           2,
           3,
           4,
           1,
           2,
           3,
           4,
           1,
           2,
           3,
           4,
           1,
           2,
           3,
           4,
           1,
           2,
           3,
           4,
           1,
           2,
           3,
           4,
           1,
           2,
           3,
           4,
           1,
           2,
           3,
           4,
           1,
           2,
           3,
           4,
           1,
           2,
           3,
           4,
           1,
           2,
           3,
           4,
           1,
           2,
           3,
           4,
           1,
           2,
           3,
           4,
           1,
           2,
           3,
           4,
           1,
           2,
           3,
           4,
           1,
           2,
           3,
           4,
           1,
           2,
           3,
           4,
           1,
           2,
           3
          ],
          [
           [
            2004,
            1
           ],
           [
            2004,
            2
           ],
           [
            2004,
            3
           ],
           [
            2004,
            4
           ],
           [
            2005,
            1
           ],
           [
            2005,
            2
           ],
           [
            2005,
            3
           ],
           [
            2005,
            4
           ],
           [
            2006,
            1
           ],
           [
            2006,
            2
           ],
           [
            2006,
            3
           ],
           [
            2006,
            4
           ],
           [
            2007,
            1
           ],
           [
            2007,
            2
           ],
           [
            2007,
            3
           ],
           [
            2007,
            4
           ],
           [
            2008,
            1
           ],
           [
            2008,
            2
           ],
           [
            2008,
            3
           ],
           [
            2008,
            4
           ],
           [
            2009,
            1
           ],
           [
            2009,
            2
           ],
           [
            2009,
            3
           ],
           [
            2009,
            4
           ],
           [
            2010,
            1
           ],
           [
            2010,
            2
           ],
           [
            2010,
            3
           ],
           [
            2010,
            4
           ],
           [
            2011,
            1
           ],
           [
            2011,
            2
           ],
           [
            2011,
            3
           ],
           [
            2011,
            4
           ],
           [
            2012,
            1
           ],
           [
            2012,
            2
           ],
           [
            2012,
            3
           ],
           [
            2012,
            4
           ],
           [
            2013,
            1
           ],
           [
            2013,
            2
           ],
           [
            2013,
            3
           ],
           [
            2013,
            4
           ],
           [
            2014,
            1
           ],
           [
            2014,
            2
           ],
           [
            2014,
            3
           ],
           [
            2014,
            4
           ],
           [
            2015,
            1
           ],
           [
            2015,
            2
           ],
           [
            2015,
            3
           ],
           [
            2015,
            4
           ],
           [
            2016,
            1
           ],
           [
            2016,
            2
           ],
           [
            2016,
            3
           ],
           [
            2016,
            4
           ],
           [
            2017,
            1
           ],
           [
            2017,
            2
           ],
           [
            2017,
            3
           ],
           [
            2017,
            4
           ],
           [
            2018,
            1
           ],
           [
            2018,
            2
           ],
           [
            2018,
            3
           ],
           [
            2018,
            4
           ],
           [
            2019,
            1
           ],
           [
            2019,
            2
           ],
           [
            2019,
            3
           ],
           [
            2019,
            4
           ],
           [
            2020,
            1
           ],
           [
            2020,
            2
           ],
           [
            2020,
            3
           ],
           [
            2020,
            4
           ],
           [
            2021,
            1
           ],
           [
            2021,
            2
           ],
           [
            2021,
            3
           ],
           [
            2021,
            4
           ],
           [
            2022,
            1
           ],
           [
            2022,
            2
           ],
           [
            2022,
            3
           ]
          ]
         ],
         "y": [
          0.9157554945054945,
          2.7396291208791212,
          3.2917889492753623,
          6.199134963768116,
          1.5662916666666666,
          5.025215201465201,
          1.9921286231884057,
          0.2884827898550725,
          0.05786574074074074,
          1.9422252747252746,
          1.2031385869565216,
          0.36546648550724636,
          0.14468518518518517,
          0.7514468864468865,
          0.758473731884058,
          0.16417572463768115,
          0.2976236263736264,
          2.177477106227106,
          0.9368647912885663,
          0.6975169913910286,
          0.1381851851851852,
          2.2463049450549453,
          1.4864492753623189,
          0.14531702898550722,
          0.03890277777777778,
          0.22639652014652015,
          0.1880751811594203,
          0.18398550724637683,
          0.027018518518518518,
          0.47695970695970696,
          0.868052536231884,
          0.3871713508612874,
          0.20318681318681317,
          1.149848901098901,
          0.15248641304347826,
          0,
          0,
          0,
          0,
          0,
          0,
          0,
          0,
          0,
          0,
          0,
          0,
          0,
          0,
          0,
          0,
          0,
          0,
          0,
          0,
          0,
          0,
          0,
          0,
          0,
          0,
          0,
          0,
          0,
          0,
          0,
          0,
          0,
          0,
          0,
          0,
          0,
          0,
          0,
          0
         ]
        },
        {
         "hoverinfo": "name+x+y",
         "hovertemplate": "%{x}Q, %{y:.1f}%",
         "marker": {
          "color": "lightsalmon"
         },
         "name": "misc",
         "showlegend": true,
         "type": "bar",
         "width": 1,
         "x": [
          [
           2004,
           2004,
           2004,
           2004,
           2005,
           2005,
           2005,
           2005,
           2006,
           2006,
           2006,
           2006,
           2007,
           2007,
           2007,
           2007,
           2008,
           2008,
           2008,
           2008,
           2009,
           2009,
           2009,
           2009,
           2010,
           2010,
           2010,
           2010,
           2011,
           2011,
           2011,
           2011,
           2012,
           2012,
           2012,
           2012,
           2013,
           2013,
           2013,
           2013,
           2014,
           2014,
           2014,
           2014,
           2015,
           2015,
           2015,
           2015,
           2016,
           2016,
           2016,
           2016,
           2017,
           2017,
           2017,
           2017,
           2018,
           2018,
           2018,
           2018,
           2019,
           2019,
           2019,
           2019,
           2020,
           2020,
           2020,
           2020,
           2021,
           2021,
           2021,
           2021,
           2022,
           2022,
           2022
          ],
          [
           1,
           2,
           3,
           4,
           1,
           2,
           3,
           4,
           1,
           2,
           3,
           4,
           1,
           2,
           3,
           4,
           1,
           2,
           3,
           4,
           1,
           2,
           3,
           4,
           1,
           2,
           3,
           4,
           1,
           2,
           3,
           4,
           1,
           2,
           3,
           4,
           1,
           2,
           3,
           4,
           1,
           2,
           3,
           4,
           1,
           2,
           3,
           4,
           1,
           2,
           3,
           4,
           1,
           2,
           3,
           4,
           1,
           2,
           3,
           4,
           1,
           2,
           3,
           4,
           1,
           2,
           3,
           4,
           1,
           2,
           3,
           4,
           1,
           2,
           3
          ],
          [
           [
            2004,
            1
           ],
           [
            2004,
            2
           ],
           [
            2004,
            3
           ],
           [
            2004,
            4
           ],
           [
            2005,
            1
           ],
           [
            2005,
            2
           ],
           [
            2005,
            3
           ],
           [
            2005,
            4
           ],
           [
            2006,
            1
           ],
           [
            2006,
            2
           ],
           [
            2006,
            3
           ],
           [
            2006,
            4
           ],
           [
            2007,
            1
           ],
           [
            2007,
            2
           ],
           [
            2007,
            3
           ],
           [
            2007,
            4
           ],
           [
            2008,
            1
           ],
           [
            2008,
            2
           ],
           [
            2008,
            3
           ],
           [
            2008,
            4
           ],
           [
            2009,
            1
           ],
           [
            2009,
            2
           ],
           [
            2009,
            3
           ],
           [
            2009,
            4
           ],
           [
            2010,
            1
           ],
           [
            2010,
            2
           ],
           [
            2010,
            3
           ],
           [
            2010,
            4
           ],
           [
            2011,
            1
           ],
           [
            2011,
            2
           ],
           [
            2011,
            3
           ],
           [
            2011,
            4
           ],
           [
            2012,
            1
           ],
           [
            2012,
            2
           ],
           [
            2012,
            3
           ],
           [
            2012,
            4
           ],
           [
            2013,
            1
           ],
           [
            2013,
            2
           ],
           [
            2013,
            3
           ],
           [
            2013,
            4
           ],
           [
            2014,
            1
           ],
           [
            2014,
            2
           ],
           [
            2014,
            3
           ],
           [
            2014,
            4
           ],
           [
            2015,
            1
           ],
           [
            2015,
            2
           ],
           [
            2015,
            3
           ],
           [
            2015,
            4
           ],
           [
            2016,
            1
           ],
           [
            2016,
            2
           ],
           [
            2016,
            3
           ],
           [
            2016,
            4
           ],
           [
            2017,
            1
           ],
           [
            2017,
            2
           ],
           [
            2017,
            3
           ],
           [
            2017,
            4
           ],
           [
            2018,
            1
           ],
           [
            2018,
            2
           ],
           [
            2018,
            3
           ],
           [
            2018,
            4
           ],
           [
            2019,
            1
           ],
           [
            2019,
            2
           ],
           [
            2019,
            3
           ],
           [
            2019,
            4
           ],
           [
            2020,
            1
           ],
           [
            2020,
            2
           ],
           [
            2020,
            3
           ],
           [
            2020,
            4
           ],
           [
            2021,
            1
           ],
           [
            2021,
            2
           ],
           [
            2021,
            3
           ],
           [
            2021,
            4
           ],
           [
            2022,
            1
           ],
           [
            2022,
            2
           ],
           [
            2022,
            3
           ]
          ]
         ],
         "y": [
          0,
          0,
          0,
          0,
          0.019930555555555556,
          0.0909478021978022,
          0.12475090579710145,
          1.3143749999999998,
          0.03569444444444444,
          0.44589285714285715,
          1.184284420289855,
          1.033215579710145,
          1.6888935185185183,
          0.9093406593406593,
          1.2359782608695653,
          1.8697418478260872,
          0.43165750915750917,
          0.6885347985347985,
          1.0928811252268602,
          1.1965564114182146,
          1.8954166666666665,
          0.8740521978021978,
          0.3233016304347826,
          0.5939538043478261,
          1.1783796296296296,
          0.9908058608058609,
          1.1026449275362318,
          0.468070652173913,
          0.6303472222222222,
          1.234830586080586,
          1.3954846014492754,
          0.36455575702629195,
          0.4058287545787546,
          0.9437820512820512,
          0.9811322463768116,
          0.06109612277867528,
          0.12238425925925928,
          0.27184981684981685,
          0.2904438405797101,
          0.21546648550724637,
          0.8220694444444445,
          0.08084249084249084,
          0.21357336956521739,
          0.657241847826087,
          0.5348379629629629,
          0.5613782051282051,
          0.5048686594202898,
          0.2541077898550725,
          0.18387362637362636,
          0.10861721611721611,
          0.1483786231884058,
          0.1300090579710145,
          0.1879398148148148,
          0.2573992673992674,
          0.2534103260869565,
          0.27269021739130433,
          0.31056018518518513,
          0.3958653846153846,
          0.139356884057971,
          0.02821105072463768,
          0.05151851851851852,
          0.09148809523809524,
          0.1031748188405797,
          0.06397644927536232,
          0.030119047619047618,
          0.1372802197802198,
          0.00955163043478261,
          0.007083333333333334,
          0.11466203703703705,
          0.16166666666666665,
          0.03509057971014493,
          0.05082427536231884,
          0.10918518518518519,
          0.05860805860805861,
          0.059823289533303126
         ]
        },
        {
         "hoverinfo": "name+x+y",
         "hovertemplate": "%{x}Q, %{y:.1f}%",
         "marker": {
          "color": "peru"
         },
         "name": "nuclear",
         "showlegend": true,
         "type": "bar",
         "width": 1,
         "x": [
          [
           2004,
           2004,
           2004,
           2004,
           2005,
           2005,
           2005,
           2005,
           2006,
           2006,
           2006,
           2006,
           2007,
           2007,
           2007,
           2007,
           2008,
           2008,
           2008,
           2008,
           2009,
           2009,
           2009,
           2009,
           2010,
           2010,
           2010,
           2010,
           2011,
           2011,
           2011,
           2011,
           2012,
           2012,
           2012,
           2012,
           2013,
           2013,
           2013,
           2013,
           2014,
           2014,
           2014,
           2014,
           2015,
           2015,
           2015,
           2015,
           2016,
           2016,
           2016,
           2016,
           2017,
           2017,
           2017,
           2017,
           2018,
           2018,
           2018,
           2018,
           2019,
           2019,
           2019,
           2019,
           2020,
           2020,
           2020,
           2020,
           2021,
           2021,
           2021,
           2021,
           2022,
           2022,
           2022
          ],
          [
           1,
           2,
           3,
           4,
           1,
           2,
           3,
           4,
           1,
           2,
           3,
           4,
           1,
           2,
           3,
           4,
           1,
           2,
           3,
           4,
           1,
           2,
           3,
           4,
           1,
           2,
           3,
           4,
           1,
           2,
           3,
           4,
           1,
           2,
           3,
           4,
           1,
           2,
           3,
           4,
           1,
           2,
           3,
           4,
           1,
           2,
           3,
           4,
           1,
           2,
           3,
           4,
           1,
           2,
           3,
           4,
           1,
           2,
           3,
           4,
           1,
           2,
           3,
           4,
           1,
           2,
           3,
           4,
           1,
           2,
           3,
           4,
           1,
           2,
           3
          ],
          [
           [
            2004,
            1
           ],
           [
            2004,
            2
           ],
           [
            2004,
            3
           ],
           [
            2004,
            4
           ],
           [
            2005,
            1
           ],
           [
            2005,
            2
           ],
           [
            2005,
            3
           ],
           [
            2005,
            4
           ],
           [
            2006,
            1
           ],
           [
            2006,
            2
           ],
           [
            2006,
            3
           ],
           [
            2006,
            4
           ],
           [
            2007,
            1
           ],
           [
            2007,
            2
           ],
           [
            2007,
            3
           ],
           [
            2007,
            4
           ],
           [
            2008,
            1
           ],
           [
            2008,
            2
           ],
           [
            2008,
            3
           ],
           [
            2008,
            4
           ],
           [
            2009,
            1
           ],
           [
            2009,
            2
           ],
           [
            2009,
            3
           ],
           [
            2009,
            4
           ],
           [
            2010,
            1
           ],
           [
            2010,
            2
           ],
           [
            2010,
            3
           ],
           [
            2010,
            4
           ],
           [
            2011,
            1
           ],
           [
            2011,
            2
           ],
           [
            2011,
            3
           ],
           [
            2011,
            4
           ],
           [
            2012,
            1
           ],
           [
            2012,
            2
           ],
           [
            2012,
            3
           ],
           [
            2012,
            4
           ],
           [
            2013,
            1
           ],
           [
            2013,
            2
           ],
           [
            2013,
            3
           ],
           [
            2013,
            4
           ],
           [
            2014,
            1
           ],
           [
            2014,
            2
           ],
           [
            2014,
            3
           ],
           [
            2014,
            4
           ],
           [
            2015,
            1
           ],
           [
            2015,
            2
           ],
           [
            2015,
            3
           ],
           [
            2015,
            4
           ],
           [
            2016,
            1
           ],
           [
            2016,
            2
           ],
           [
            2016,
            3
           ],
           [
            2016,
            4
           ],
           [
            2017,
            1
           ],
           [
            2017,
            2
           ],
           [
            2017,
            3
           ],
           [
            2017,
            4
           ],
           [
            2018,
            1
           ],
           [
            2018,
            2
           ],
           [
            2018,
            3
           ],
           [
            2018,
            4
           ],
           [
            2019,
            1
           ],
           [
            2019,
            2
           ],
           [
            2019,
            3
           ],
           [
            2019,
            4
           ],
           [
            2020,
            1
           ],
           [
            2020,
            2
           ],
           [
            2020,
            3
           ],
           [
            2020,
            4
           ],
           [
            2021,
            1
           ],
           [
            2021,
            2
           ],
           [
            2021,
            3
           ],
           [
            2021,
            4
           ],
           [
            2022,
            1
           ],
           [
            2022,
            2
           ],
           [
            2022,
            3
           ]
          ]
         ],
         "y": [
          0,
          0,
          0,
          0,
          0,
          0,
          0.005031702898550725,
          0,
          0,
          0.00635989010989011,
          0.006277173913043478,
          0.0025181159420289852,
          0.0012870370370370368,
          0,
          0.0662409420289855,
          0.03582427536231884,
          0,
          0.19675824175824175,
          0.009836660617059892,
          0.006357045763479836,
          0.8423333333333334,
          1.6759523809523809,
          0.9195471014492753,
          1.7018795289855073,
          0.14029166666666665,
          0.5982967032967034,
          0.24667572463768114,
          0.1765036231884058,
          0.35288425925925926,
          3.81771978021978,
          4.179329710144927,
          7.567139619220309,
          4.251749084249084,
          4.927051282051282,
          9.52351902173913,
          0.030466074313408722,
          0.02409722222222222,
          0.03307234432234432,
          0.019895833333333335,
          0.03173460144927536,
          0.41932407407407407,
          0.04325091575091575,
          0,
          0,
          0.006930555555555555,
          0.2028617216117216,
          0,
          0.17458333333333334,
          0.2014697802197802,
          3.1333287545787543,
          2.8157835144927534,
          5.415371376811594,
          1.6774212962962962,
          1.3255860805860806,
          2.0151449275362316,
          1.3108695652173914,
          0.762125,
          2.4377152014652017,
          2.580742753623188,
          2.2917889492753623,
          0.6514305555555555,
          0.7597298534798534,
          2.0710371376811594,
          2.0793840579710143,
          1.530096153846154,
          1.4711080586080587,
          2.1669882246376813,
          1.1741123188405798,
          0.6642962962962963,
          1.1233516483516484,
          0.8546648550724637,
          1.8010869565217391,
          0.5944814814814815,
          0.925018315018315,
          0.12531943815133664
         ]
        },
        {
         "hoverinfo": "name+x+y",
         "hovertemplate": "%{x}Q, %{y:.1f}%",
         "marker": {
          "color": "orangered"
         },
         "name": "oil",
         "showlegend": true,
         "type": "bar",
         "width": 1,
         "x": [
          [
           2004,
           2004,
           2004,
           2004,
           2005,
           2005,
           2005,
           2005,
           2006,
           2006,
           2006,
           2006,
           2007,
           2007,
           2007,
           2007,
           2008,
           2008,
           2008,
           2008,
           2009,
           2009,
           2009,
           2009,
           2010,
           2010,
           2010,
           2010,
           2011,
           2011,
           2011,
           2011,
           2012,
           2012,
           2012,
           2012,
           2013,
           2013,
           2013,
           2013,
           2014,
           2014,
           2014,
           2014,
           2015,
           2015,
           2015,
           2015,
           2016,
           2016,
           2016,
           2016,
           2017,
           2017,
           2017,
           2017,
           2018,
           2018,
           2018,
           2018,
           2019,
           2019,
           2019,
           2019,
           2020,
           2020,
           2020,
           2020,
           2021,
           2021,
           2021,
           2021,
           2022,
           2022,
           2022
          ],
          [
           1,
           2,
           3,
           4,
           1,
           2,
           3,
           4,
           1,
           2,
           3,
           4,
           1,
           2,
           3,
           4,
           1,
           2,
           3,
           4,
           1,
           2,
           3,
           4,
           1,
           2,
           3,
           4,
           1,
           2,
           3,
           4,
           1,
           2,
           3,
           4,
           1,
           2,
           3,
           4,
           1,
           2,
           3,
           4,
           1,
           2,
           3,
           4,
           1,
           2,
           3,
           4,
           1,
           2,
           3,
           4,
           1,
           2,
           3,
           4,
           1,
           2,
           3,
           4,
           1,
           2,
           3,
           4,
           1,
           2,
           3,
           4,
           1,
           2,
           3
          ],
          [
           [
            2004,
            1
           ],
           [
            2004,
            2
           ],
           [
            2004,
            3
           ],
           [
            2004,
            4
           ],
           [
            2005,
            1
           ],
           [
            2005,
            2
           ],
           [
            2005,
            3
           ],
           [
            2005,
            4
           ],
           [
            2006,
            1
           ],
           [
            2006,
            2
           ],
           [
            2006,
            3
           ],
           [
            2006,
            4
           ],
           [
            2007,
            1
           ],
           [
            2007,
            2
           ],
           [
            2007,
            3
           ],
           [
            2007,
            4
           ],
           [
            2008,
            1
           ],
           [
            2008,
            2
           ],
           [
            2008,
            3
           ],
           [
            2008,
            4
           ],
           [
            2009,
            1
           ],
           [
            2009,
            2
           ],
           [
            2009,
            3
           ],
           [
            2009,
            4
           ],
           [
            2010,
            1
           ],
           [
            2010,
            2
           ],
           [
            2010,
            3
           ],
           [
            2010,
            4
           ],
           [
            2011,
            1
           ],
           [
            2011,
            2
           ],
           [
            2011,
            3
           ],
           [
            2011,
            4
           ],
           [
            2012,
            1
           ],
           [
            2012,
            2
           ],
           [
            2012,
            3
           ],
           [
            2012,
            4
           ],
           [
            2013,
            1
           ],
           [
            2013,
            2
           ],
           [
            2013,
            3
           ],
           [
            2013,
            4
           ],
           [
            2014,
            1
           ],
           [
            2014,
            2
           ],
           [
            2014,
            3
           ],
           [
            2014,
            4
           ],
           [
            2015,
            1
           ],
           [
            2015,
            2
           ],
           [
            2015,
            3
           ],
           [
            2015,
            4
           ],
           [
            2016,
            1
           ],
           [
            2016,
            2
           ],
           [
            2016,
            3
           ],
           [
            2016,
            4
           ],
           [
            2017,
            1
           ],
           [
            2017,
            2
           ],
           [
            2017,
            3
           ],
           [
            2017,
            4
           ],
           [
            2018,
            1
           ],
           [
            2018,
            2
           ],
           [
            2018,
            3
           ],
           [
            2018,
            4
           ],
           [
            2019,
            1
           ],
           [
            2019,
            2
           ],
           [
            2019,
            3
           ],
           [
            2019,
            4
           ],
           [
            2020,
            1
           ],
           [
            2020,
            2
           ],
           [
            2020,
            3
           ],
           [
            2020,
            4
           ],
           [
            2021,
            1
           ],
           [
            2021,
            2
           ],
           [
            2021,
            3
           ],
           [
            2021,
            4
           ],
           [
            2022,
            1
           ],
           [
            2022,
            2
           ],
           [
            2022,
            3
           ]
          ]
         ],
         "y": [
          6.820215964590965,
          9.861694902319902,
          4.531916515700483,
          4.642733242753623,
          7.998489969135803,
          5.945048840048839,
          6.932383001207729,
          3.3073769625603866,
          3.975940586419753,
          1.3755204517704518,
          5.408471467391305,
          2.8930095108695655,
          2.8021219135802466,
          4.684039987789988,
          2.943682820048309,
          3.7257789855072465,
          3.614594017094017,
          3.37713141025641,
          2.3944457047791894,
          1.3253081105573177,
          2.035713734567901,
          1.0000068681318681,
          2.288623188405797,
          0.3357246376811594,
          0.9173541666666666,
          2.4256013431013432,
          3.519343674516908,
          1.6702898550724639,
          0.7119143518518519,
          0.7765544871794873,
          2.331977657004831,
          1.8899773345421578,
          3.1138553113553114,
          2.2198076923076924,
          4.766272644927536,
          6.619309369951535,
          1.9608854166666665,
          3.0855479242979245,
          3.918037817028986,
          3.165296648550725,
          6.15555362654321,
          3.2592742673992676,
          2.3084850543478264,
          22.360477807971012,
          4.976749228395062,
          7.367264194139194,
          2.3649071557971015,
          10.898229166666667,
          8.503722527472528,
          7.315856227106227,
          9.498497131642512,
          1.3223211050724637,
          6.675333333333333,
          2.1189308608058606,
          3.6444791666666667,
          7.723966259057971,
          3.1911367283950614,
          2.28643315018315,
          2.9600588768115945,
          10.209091938405797,
          0.42103626543209877,
          0.43875000000000003,
          0.6727536231884058,
          0.6890443840579711,
          0.07615384615384616,
          0.12130036630036628,
          3.2211707427536234,
          1.4592776268115941,
          1.1713032407407407,
          0.3052838827838828,
          2.2417685688405795,
          1.4571240942028985,
          6.086777777777778,
          0.37426510989010986,
          1.5715564114182148
         ]
        },
        {
         "hoverinfo": "name+x+y",
         "hovertemplate": "%{x}Q, %{y:.1f}%",
         "marker": {
          "color": "yellow"
         },
         "name": "solar",
         "showlegend": true,
         "type": "bar",
         "width": 1,
         "x": [
          [
           2004,
           2004,
           2004,
           2004,
           2005,
           2005,
           2005,
           2005,
           2006,
           2006,
           2006,
           2006,
           2007,
           2007,
           2007,
           2007,
           2008,
           2008,
           2008,
           2008,
           2009,
           2009,
           2009,
           2009,
           2010,
           2010,
           2010,
           2010,
           2011,
           2011,
           2011,
           2011,
           2012,
           2012,
           2012,
           2012,
           2013,
           2013,
           2013,
           2013,
           2014,
           2014,
           2014,
           2014,
           2015,
           2015,
           2015,
           2015,
           2016,
           2016,
           2016,
           2016,
           2017,
           2017,
           2017,
           2017,
           2018,
           2018,
           2018,
           2018,
           2019,
           2019,
           2019,
           2019,
           2020,
           2020,
           2020,
           2020,
           2021,
           2021,
           2021,
           2021,
           2022,
           2022,
           2022
          ],
          [
           1,
           2,
           3,
           4,
           1,
           2,
           3,
           4,
           1,
           2,
           3,
           4,
           1,
           2,
           3,
           4,
           1,
           2,
           3,
           4,
           1,
           2,
           3,
           4,
           1,
           2,
           3,
           4,
           1,
           2,
           3,
           4,
           1,
           2,
           3,
           4,
           1,
           2,
           3,
           4,
           1,
           2,
           3,
           4,
           1,
           2,
           3,
           4,
           1,
           2,
           3,
           4,
           1,
           2,
           3,
           4,
           1,
           2,
           3,
           4,
           1,
           2,
           3,
           4,
           1,
           2,
           3,
           4,
           1,
           2,
           3,
           4,
           1,
           2,
           3
          ],
          [
           [
            2004,
            1
           ],
           [
            2004,
            2
           ],
           [
            2004,
            3
           ],
           [
            2004,
            4
           ],
           [
            2005,
            1
           ],
           [
            2005,
            2
           ],
           [
            2005,
            3
           ],
           [
            2005,
            4
           ],
           [
            2006,
            1
           ],
           [
            2006,
            2
           ],
           [
            2006,
            3
           ],
           [
            2006,
            4
           ],
           [
            2007,
            1
           ],
           [
            2007,
            2
           ],
           [
            2007,
            3
           ],
           [
            2007,
            4
           ],
           [
            2008,
            1
           ],
           [
            2008,
            2
           ],
           [
            2008,
            3
           ],
           [
            2008,
            4
           ],
           [
            2009,
            1
           ],
           [
            2009,
            2
           ],
           [
            2009,
            3
           ],
           [
            2009,
            4
           ],
           [
            2010,
            1
           ],
           [
            2010,
            2
           ],
           [
            2010,
            3
           ],
           [
            2010,
            4
           ],
           [
            2011,
            1
           ],
           [
            2011,
            2
           ],
           [
            2011,
            3
           ],
           [
            2011,
            4
           ],
           [
            2012,
            1
           ],
           [
            2012,
            2
           ],
           [
            2012,
            3
           ],
           [
            2012,
            4
           ],
           [
            2013,
            1
           ],
           [
            2013,
            2
           ],
           [
            2013,
            3
           ],
           [
            2013,
            4
           ],
           [
            2014,
            1
           ],
           [
            2014,
            2
           ],
           [
            2014,
            3
           ],
           [
            2014,
            4
           ],
           [
            2015,
            1
           ],
           [
            2015,
            2
           ],
           [
            2015,
            3
           ],
           [
            2015,
            4
           ],
           [
            2016,
            1
           ],
           [
            2016,
            2
           ],
           [
            2016,
            3
           ],
           [
            2016,
            4
           ],
           [
            2017,
            1
           ],
           [
            2017,
            2
           ],
           [
            2017,
            3
           ],
           [
            2017,
            4
           ],
           [
            2018,
            1
           ],
           [
            2018,
            2
           ],
           [
            2018,
            3
           ],
           [
            2018,
            4
           ],
           [
            2019,
            1
           ],
           [
            2019,
            2
           ],
           [
            2019,
            3
           ],
           [
            2019,
            4
           ],
           [
            2020,
            1
           ],
           [
            2020,
            2
           ],
           [
            2020,
            3
           ],
           [
            2020,
            4
           ],
           [
            2021,
            1
           ],
           [
            2021,
            2
           ],
           [
            2021,
            3
           ],
           [
            2021,
            4
           ],
           [
            2022,
            1
           ],
           [
            2022,
            2
           ],
           [
            2022,
            3
           ]
          ]
         ],
         "y": [
          0,
          0,
          0,
          0,
          0,
          0,
          0,
          0,
          0,
          0,
          0,
          0,
          0,
          0,
          0,
          0,
          0,
          0,
          0,
          0,
          0,
          0,
          0,
          0,
          0,
          0,
          0,
          0,
          0,
          0,
          0,
          0,
          0,
          0,
          0.02767663043478261,
          0.012439418416801292,
          0.0062824074074074076,
          0.006813186813186814,
          0.008559782608695651,
          0,
          0.005037037037037037,
          0,
          0.01186141304347826,
          0.0012952898550724636,
          0.0054537037037037045,
          0.027921245421245425,
          0.003605072463768116,
          0.016068840579710145,
          0.04898351648351648,
          0.02244047619047619,
          0.03326086956521739,
          0.010416666666666666,
          0.10356018518518519,
          0.1762820512820513,
          0.12570652173913044,
          0.2697916666666667,
          0.019796296296296294,
          0.22679945054945055,
          0.05662590579710145,
          0.19216485507246378,
          0.034805555555555555,
          0.0721565934065934,
          0.08457427536231883,
          0.07944746376811596,
          0.4308287545787546,
          0.8787408424908425,
          0.19705163043478263,
          0.1073913043478261,
          0.47455555555555556,
          1.9502701465201466,
          0.34046195652173916,
          0.10685235507246377,
          0.6098703703703704,
          1.9933333333333332,
          0.6235070231082918
         ]
        },
        {
         "hoverinfo": "name+x+y",
         "hovertemplate": "%{x}Q, %{y:.1f}%",
         "marker": {
          "color": "lightgrey"
         },
         "name": "unknown",
         "showlegend": true,
         "type": "bar",
         "width": 1,
         "x": [
          [
           2004,
           2004,
           2004,
           2004,
           2005,
           2005,
           2005,
           2005,
           2006,
           2006,
           2006,
           2006,
           2007,
           2007,
           2007,
           2007,
           2008,
           2008,
           2008,
           2008,
           2009,
           2009,
           2009,
           2009,
           2010,
           2010,
           2010,
           2010,
           2011,
           2011,
           2011,
           2011,
           2012,
           2012,
           2012,
           2012,
           2013,
           2013,
           2013,
           2013,
           2014,
           2014,
           2014,
           2014,
           2015,
           2015,
           2015,
           2015,
           2016,
           2016,
           2016,
           2016,
           2017,
           2017,
           2017,
           2017,
           2018,
           2018,
           2018,
           2018,
           2019,
           2019,
           2019,
           2019,
           2020,
           2020,
           2020,
           2020,
           2021,
           2021,
           2021,
           2021,
           2022,
           2022,
           2022
          ],
          [
           1,
           2,
           3,
           4,
           1,
           2,
           3,
           4,
           1,
           2,
           3,
           4,
           1,
           2,
           3,
           4,
           1,
           2,
           3,
           4,
           1,
           2,
           3,
           4,
           1,
           2,
           3,
           4,
           1,
           2,
           3,
           4,
           1,
           2,
           3,
           4,
           1,
           2,
           3,
           4,
           1,
           2,
           3,
           4,
           1,
           2,
           3,
           4,
           1,
           2,
           3,
           4,
           1,
           2,
           3,
           4,
           1,
           2,
           3,
           4,
           1,
           2,
           3,
           4,
           1,
           2,
           3,
           4,
           1,
           2,
           3,
           4,
           1,
           2,
           3
          ],
          [
           [
            2004,
            1
           ],
           [
            2004,
            2
           ],
           [
            2004,
            3
           ],
           [
            2004,
            4
           ],
           [
            2005,
            1
           ],
           [
            2005,
            2
           ],
           [
            2005,
            3
           ],
           [
            2005,
            4
           ],
           [
            2006,
            1
           ],
           [
            2006,
            2
           ],
           [
            2006,
            3
           ],
           [
            2006,
            4
           ],
           [
            2007,
            1
           ],
           [
            2007,
            2
           ],
           [
            2007,
            3
           ],
           [
            2007,
            4
           ],
           [
            2008,
            1
           ],
           [
            2008,
            2
           ],
           [
            2008,
            3
           ],
           [
            2008,
            4
           ],
           [
            2009,
            1
           ],
           [
            2009,
            2
           ],
           [
            2009,
            3
           ],
           [
            2009,
            4
           ],
           [
            2010,
            1
           ],
           [
            2010,
            2
           ],
           [
            2010,
            3
           ],
           [
            2010,
            4
           ],
           [
            2011,
            1
           ],
           [
            2011,
            2
           ],
           [
            2011,
            3
           ],
           [
            2011,
            4
           ],
           [
            2012,
            1
           ],
           [
            2012,
            2
           ],
           [
            2012,
            3
           ],
           [
            2012,
            4
           ],
           [
            2013,
            1
           ],
           [
            2013,
            2
           ],
           [
            2013,
            3
           ],
           [
            2013,
            4
           ],
           [
            2014,
            1
           ],
           [
            2014,
            2
           ],
           [
            2014,
            3
           ],
           [
            2014,
            4
           ],
           [
            2015,
            1
           ],
           [
            2015,
            2
           ],
           [
            2015,
            3
           ],
           [
            2015,
            4
           ],
           [
            2016,
            1
           ],
           [
            2016,
            2
           ],
           [
            2016,
            3
           ],
           [
            2016,
            4
           ],
           [
            2017,
            1
           ],
           [
            2017,
            2
           ],
           [
            2017,
            3
           ],
           [
            2017,
            4
           ],
           [
            2018,
            1
           ],
           [
            2018,
            2
           ],
           [
            2018,
            3
           ],
           [
            2018,
            4
           ],
           [
            2019,
            1
           ],
           [
            2019,
            2
           ],
           [
            2019,
            3
           ],
           [
            2019,
            4
           ],
           [
            2020,
            1
           ],
           [
            2020,
            2
           ],
           [
            2020,
            3
           ],
           [
            2020,
            4
           ],
           [
            2021,
            1
           ],
           [
            2021,
            2
           ],
           [
            2021,
            3
           ],
           [
            2021,
            4
           ],
           [
            2022,
            1
           ],
           [
            2022,
            2
           ],
           [
            2022,
            3
           ]
          ]
         ],
         "y": [
          1.46904227716729,
          3.2187767094017232,
          2.8438624698067656,
          0.7972622282608768,
          1.817945216049381,
          1.5993833943833948,
          1.8864711654589286,
          0.5360288345410709,
          0.34007330246912204,
          0.3082203907204075,
          2.5089266304347575,
          0.09525135869567691,
          0.6259243827160503,
          1.0922077228327396,
          1.693964371980698,
          0.2280887681159527,
          0.19149572649573088,
          0.7458035714285671,
          0.4168746218995807,
          0.08030584503852367,
          0.7282515432098933,
          0.028843864468854008,
          0.11237771739128277,
          -0.00026268115939842573,
          0.044844907407394885,
          0.366587301587316,
          0.976765926932373,
          0.048817934782590555,
          0.0689259259259245,
          1.394999999999996,
          5.083921346618368,
          3.4348821396192193,
          1.0508241758241752,
          4.045821886446859,
          6.904569746376808,
          3.4589838449111454,
          1.051304398148119,
          0.7231974969474777,
          1.5153906249999807,
          1.3946354166666737,
          3.981247299382744,
          0.9177289377289526,
          1.7905819746377034,
          1.9641281702898539,
          4.725410493827155,
          1.0837980769230597,
          1.4322169384057872,
          1.7748392210145028,
          1.5995215201465243,
          0.3886103479853489,
          2.3816206219806872,
          0.22997961956522772,
          2.4484768518518507,
          0.920620421245431,
          2.2636526268115915,
          2.167265624999999,
          3.730601697530858,
          0.874777930402928,
          1.1814945652173776,
          1.6856182065217666,
          2.83326003086421,
          1.6353388278388366,
          0.8867368659420407,
          2.400935235507248,
          0.9961401098901064,
          0.471755952380974,
          0.4978600543478109,
          0.718292572463767,
          0.2830972222222101,
          0.05934294871795487,
          0.15522871376812475,
          0.5315466485507301,
          2.2896018518518417,
          0.25242445054944085,
          0.2490869959220703
         ]
        },
        {
         "hoverinfo": "name+x+y",
         "hovertemplate": "%{x}Q, %{y:.1f}%",
         "marker": {
          "color": "lightgrey"
         },
         "name": "virtualsale",
         "showlegend": true,
         "type": "bar",
         "width": 1,
         "x": [
          [
           2004,
           2004,
           2004,
           2004,
           2005,
           2005,
           2005,
           2005,
           2006,
           2006,
           2006,
           2006,
           2007,
           2007,
           2007,
           2007,
           2008,
           2008,
           2008,
           2008,
           2009,
           2009,
           2009,
           2009,
           2010,
           2010,
           2010,
           2010,
           2011,
           2011,
           2011,
           2011,
           2012,
           2012,
           2012,
           2012,
           2013,
           2013,
           2013,
           2013,
           2014,
           2014,
           2014,
           2014,
           2015,
           2015,
           2015,
           2015,
           2016,
           2016,
           2016,
           2016,
           2017,
           2017,
           2017,
           2017,
           2018,
           2018,
           2018,
           2018,
           2019,
           2019,
           2019,
           2019,
           2020,
           2020,
           2020,
           2020,
           2021,
           2021,
           2021,
           2021,
           2022,
           2022,
           2022
          ],
          [
           1,
           2,
           3,
           4,
           1,
           2,
           3,
           4,
           1,
           2,
           3,
           4,
           1,
           2,
           3,
           4,
           1,
           2,
           3,
           4,
           1,
           2,
           3,
           4,
           1,
           2,
           3,
           4,
           1,
           2,
           3,
           4,
           1,
           2,
           3,
           4,
           1,
           2,
           3,
           4,
           1,
           2,
           3,
           4,
           1,
           2,
           3,
           4,
           1,
           2,
           3,
           4,
           1,
           2,
           3,
           4,
           1,
           2,
           3,
           4,
           1,
           2,
           3,
           4,
           1,
           2,
           3,
           4,
           1,
           2,
           3,
           4,
           1,
           2,
           3
          ],
          [
           [
            2004,
            1
           ],
           [
            2004,
            2
           ],
           [
            2004,
            3
           ],
           [
            2004,
            4
           ],
           [
            2005,
            1
           ],
           [
            2005,
            2
           ],
           [
            2005,
            3
           ],
           [
            2005,
            4
           ],
           [
            2006,
            1
           ],
           [
            2006,
            2
           ],
           [
            2006,
            3
           ],
           [
            2006,
            4
           ],
           [
            2007,
            1
           ],
           [
            2007,
            2
           ],
           [
            2007,
            3
           ],
           [
            2007,
            4
           ],
           [
            2008,
            1
           ],
           [
            2008,
            2
           ],
           [
            2008,
            3
           ],
           [
            2008,
            4
           ],
           [
            2009,
            1
           ],
           [
            2009,
            2
           ],
           [
            2009,
            3
           ],
           [
            2009,
            4
           ],
           [
            2010,
            1
           ],
           [
            2010,
            2
           ],
           [
            2010,
            3
           ],
           [
            2010,
            4
           ],
           [
            2011,
            1
           ],
           [
            2011,
            2
           ],
           [
            2011,
            3
           ],
           [
            2011,
            4
           ],
           [
            2012,
            1
           ],
           [
            2012,
            2
           ],
           [
            2012,
            3
           ],
           [
            2012,
            4
           ],
           [
            2013,
            1
           ],
           [
            2013,
            2
           ],
           [
            2013,
            3
           ],
           [
            2013,
            4
           ],
           [
            2014,
            1
           ],
           [
            2014,
            2
           ],
           [
            2014,
            3
           ],
           [
            2014,
            4
           ],
           [
            2015,
            1
           ],
           [
            2015,
            2
           ],
           [
            2015,
            3
           ],
           [
            2015,
            4
           ],
           [
            2016,
            1
           ],
           [
            2016,
            2
           ],
           [
            2016,
            3
           ],
           [
            2016,
            4
           ],
           [
            2017,
            1
           ],
           [
            2017,
            2
           ],
           [
            2017,
            3
           ],
           [
            2017,
            4
           ],
           [
            2018,
            1
           ],
           [
            2018,
            2
           ],
           [
            2018,
            3
           ],
           [
            2018,
            4
           ],
           [
            2019,
            1
           ],
           [
            2019,
            2
           ],
           [
            2019,
            3
           ],
           [
            2019,
            4
           ],
           [
            2020,
            1
           ],
           [
            2020,
            2
           ],
           [
            2020,
            3
           ],
           [
            2020,
            4
           ],
           [
            2021,
            1
           ],
           [
            2021,
            2
           ],
           [
            2021,
            3
           ],
           [
            2021,
            4
           ],
           [
            2022,
            1
           ],
           [
            2022,
            2
           ],
           [
            2022,
            3
           ]
          ]
         ],
         "y": [
          0,
          0,
          0,
          0,
          0,
          0,
          0,
          0,
          0,
          0,
          0,
          0,
          0,
          0,
          0,
          0,
          0,
          0,
          0,
          0,
          0,
          0,
          0,
          0,
          0,
          0,
          0,
          0,
          0,
          0,
          0,
          0,
          0,
          0,
          0,
          0,
          0,
          0,
          0,
          0,
          0.021826388888888888,
          0,
          0,
          0,
          0,
          0,
          0,
          0,
          0,
          0,
          0,
          0,
          0,
          0,
          0,
          0,
          0,
          0,
          0,
          0,
          0,
          0,
          0,
          0,
          0,
          0,
          0,
          0,
          0,
          0,
          0,
          0,
          0,
          0,
          0
         ]
        },
        {
         "hoverinfo": "name+x+y",
         "hovertemplate": "%{x}Q, %{y:.1f}%",
         "marker": {
          "color": "blue"
         },
         "name": "wind",
         "showlegend": true,
         "type": "bar",
         "width": 1,
         "x": [
          [
           2004,
           2004,
           2004,
           2004,
           2005,
           2005,
           2005,
           2005,
           2006,
           2006,
           2006,
           2006,
           2007,
           2007,
           2007,
           2007,
           2008,
           2008,
           2008,
           2008,
           2009,
           2009,
           2009,
           2009,
           2010,
           2010,
           2010,
           2010,
           2011,
           2011,
           2011,
           2011,
           2012,
           2012,
           2012,
           2012,
           2013,
           2013,
           2013,
           2013,
           2014,
           2014,
           2014,
           2014,
           2015,
           2015,
           2015,
           2015,
           2016,
           2016,
           2016,
           2016,
           2017,
           2017,
           2017,
           2017,
           2018,
           2018,
           2018,
           2018,
           2019,
           2019,
           2019,
           2019,
           2020,
           2020,
           2020,
           2020,
           2021,
           2021,
           2021,
           2021,
           2022,
           2022,
           2022
          ],
          [
           1,
           2,
           3,
           4,
           1,
           2,
           3,
           4,
           1,
           2,
           3,
           4,
           1,
           2,
           3,
           4,
           1,
           2,
           3,
           4,
           1,
           2,
           3,
           4,
           1,
           2,
           3,
           4,
           1,
           2,
           3,
           4,
           1,
           2,
           3,
           4,
           1,
           2,
           3,
           4,
           1,
           2,
           3,
           4,
           1,
           2,
           3,
           4,
           1,
           2,
           3,
           4,
           1,
           2,
           3,
           4,
           1,
           2,
           3,
           4,
           1,
           2,
           3,
           4,
           1,
           2,
           3,
           4,
           1,
           2,
           3,
           4,
           1,
           2,
           3
          ],
          [
           [
            2004,
            1
           ],
           [
            2004,
            2
           ],
           [
            2004,
            3
           ],
           [
            2004,
            4
           ],
           [
            2005,
            1
           ],
           [
            2005,
            2
           ],
           [
            2005,
            3
           ],
           [
            2005,
            4
           ],
           [
            2006,
            1
           ],
           [
            2006,
            2
           ],
           [
            2006,
            3
           ],
           [
            2006,
            4
           ],
           [
            2007,
            1
           ],
           [
            2007,
            2
           ],
           [
            2007,
            3
           ],
           [
            2007,
            4
           ],
           [
            2008,
            1
           ],
           [
            2008,
            2
           ],
           [
            2008,
            3
           ],
           [
            2008,
            4
           ],
           [
            2009,
            1
           ],
           [
            2009,
            2
           ],
           [
            2009,
            3
           ],
           [
            2009,
            4
           ],
           [
            2010,
            1
           ],
           [
            2010,
            2
           ],
           [
            2010,
            3
           ],
           [
            2010,
            4
           ],
           [
            2011,
            1
           ],
           [
            2011,
            2
           ],
           [
            2011,
            3
           ],
           [
            2011,
            4
           ],
           [
            2012,
            1
           ],
           [
            2012,
            2
           ],
           [
            2012,
            3
           ],
           [
            2012,
            4
           ],
           [
            2013,
            1
           ],
           [
            2013,
            2
           ],
           [
            2013,
            3
           ],
           [
            2013,
            4
           ],
           [
            2014,
            1
           ],
           [
            2014,
            2
           ],
           [
            2014,
            3
           ],
           [
            2014,
            4
           ],
           [
            2015,
            1
           ],
           [
            2015,
            2
           ],
           [
            2015,
            3
           ],
           [
            2015,
            4
           ],
           [
            2016,
            1
           ],
           [
            2016,
            2
           ],
           [
            2016,
            3
           ],
           [
            2016,
            4
           ],
           [
            2017,
            1
           ],
           [
            2017,
            2
           ],
           [
            2017,
            3
           ],
           [
            2017,
            4
           ],
           [
            2018,
            1
           ],
           [
            2018,
            2
           ],
           [
            2018,
            3
           ],
           [
            2018,
            4
           ],
           [
            2019,
            1
           ],
           [
            2019,
            2
           ],
           [
            2019,
            3
           ],
           [
            2019,
            4
           ],
           [
            2020,
            1
           ],
           [
            2020,
            2
           ],
           [
            2020,
            3
           ],
           [
            2020,
            4
           ],
           [
            2021,
            1
           ],
           [
            2021,
            2
           ],
           [
            2021,
            3
           ],
           [
            2021,
            4
           ],
           [
            2022,
            1
           ],
           [
            2022,
            2
           ],
           [
            2022,
            3
           ]
          ]
         ],
         "y": [
          0,
          0,
          0.004402173913043478,
          0.0025181159420289852,
          0,
          0.011872710622710624,
          0.012581521739130436,
          0.020760869565217388,
          0.014273148148148148,
          0.012559523809523809,
          0.002015398550724637,
          0.049701086956521735,
          0.003861111111111111,
          0.012330586080586082,
          0,
          0.020665760869565217,
          0.007312271062271062,
          0.03814560439560439,
          0.009546279491833032,
          0.015360217489805164,
          0.35587500000000005,
          0.6979670329670329,
          0.4405797101449275,
          0.2843976449275363,
          0.15571296296296294,
          0.6733653846153846,
          0.3301856884057971,
          0.3275407608695652,
          0.8590601851851851,
          2.811886446886447,
          1.4433740942028985,
          5.927456935630099,
          7.177522893772894,
          7.430022893772894,
          2.3629483695652174,
          5.704172859450726,
          6.68300462962963,
          6.973814102564102,
          2.8272644927536232,
          5.644492753623188,
          6.684962962962963,
          6.965879120879121,
          1.457518115942029,
          3.233125,
          4.051847222222222,
          5.677728937728937,
          2.0932971014492754,
          7.501068840579711,
          4.772289377289377,
          3.331877289377289,
          1.9373550724637683,
          4.5007925724637685,
          8.87488425925926,
          10.894734432234431,
          4.5058514492753625,
          3.4503260869565215,
          4.633097222222222,
          3.174120879120879,
          0.8084420289855072,
          2.095715579710145,
          2.8390833333333334,
          2.9859981684981687,
          1.9945652173913044,
          5.876856884057971,
          6.8228296703296705,
          7.661707875457877,
          2.1081974637681156,
          8.887903079710146,
          8.162421296296298,
          9.985132783882783,
          2.390828804347826,
          15.14465579710145,
          12.845074074074075,
          14.365489926739926,
          2.6339963751699136
         ]
        }
       ],
       "layout": {
        "autosize": false,
        "barmode": "stack",
        "height": 500,
        "legend": {
         "orientation": "v",
         "x": 1,
         "xanchor": "left",
         "y": 0.02,
         "yanchor": "bottom"
        },
        "template": {
         "data": {
          "bar": [
           {
            "error_x": {
             "color": "rgb(36,36,36)"
            },
            "error_y": {
             "color": "rgb(36,36,36)"
            },
            "marker": {
             "line": {
              "color": "white",
              "width": 0.5
             },
             "pattern": {
              "fillmode": "overlay",
              "size": 10,
              "solidity": 0.2
             }
            },
            "type": "bar"
           }
          ],
          "barpolar": [
           {
            "marker": {
             "line": {
              "color": "white",
              "width": 0.5
             },
             "pattern": {
              "fillmode": "overlay",
              "size": 10,
              "solidity": 0.2
             }
            },
            "type": "barpolar"
           }
          ],
          "carpet": [
           {
            "aaxis": {
             "endlinecolor": "rgb(36,36,36)",
             "gridcolor": "white",
             "linecolor": "white",
             "minorgridcolor": "white",
             "startlinecolor": "rgb(36,36,36)"
            },
            "baxis": {
             "endlinecolor": "rgb(36,36,36)",
             "gridcolor": "white",
             "linecolor": "white",
             "minorgridcolor": "white",
             "startlinecolor": "rgb(36,36,36)"
            },
            "type": "carpet"
           }
          ],
          "choropleth": [
           {
            "colorbar": {
             "outlinewidth": 1,
             "tickcolor": "rgb(36,36,36)",
             "ticks": "outside"
            },
            "type": "choropleth"
           }
          ],
          "contour": [
           {
            "colorbar": {
             "outlinewidth": 1,
             "tickcolor": "rgb(36,36,36)",
             "ticks": "outside"
            },
            "colorscale": [
             [
              0,
              "#440154"
             ],
             [
              0.1111111111111111,
              "#482878"
             ],
             [
              0.2222222222222222,
              "#3e4989"
             ],
             [
              0.3333333333333333,
              "#31688e"
             ],
             [
              0.4444444444444444,
              "#26828e"
             ],
             [
              0.5555555555555556,
              "#1f9e89"
             ],
             [
              0.6666666666666666,
              "#35b779"
             ],
             [
              0.7777777777777778,
              "#6ece58"
             ],
             [
              0.8888888888888888,
              "#b5de2b"
             ],
             [
              1,
              "#fde725"
             ]
            ],
            "type": "contour"
           }
          ],
          "contourcarpet": [
           {
            "colorbar": {
             "outlinewidth": 1,
             "tickcolor": "rgb(36,36,36)",
             "ticks": "outside"
            },
            "type": "contourcarpet"
           }
          ],
          "heatmap": [
           {
            "colorbar": {
             "outlinewidth": 1,
             "tickcolor": "rgb(36,36,36)",
             "ticks": "outside"
            },
            "colorscale": [
             [
              0,
              "#440154"
             ],
             [
              0.1111111111111111,
              "#482878"
             ],
             [
              0.2222222222222222,
              "#3e4989"
             ],
             [
              0.3333333333333333,
              "#31688e"
             ],
             [
              0.4444444444444444,
              "#26828e"
             ],
             [
              0.5555555555555556,
              "#1f9e89"
             ],
             [
              0.6666666666666666,
              "#35b779"
             ],
             [
              0.7777777777777778,
              "#6ece58"
             ],
             [
              0.8888888888888888,
              "#b5de2b"
             ],
             [
              1,
              "#fde725"
             ]
            ],
            "type": "heatmap"
           }
          ],
          "heatmapgl": [
           {
            "colorbar": {
             "outlinewidth": 1,
             "tickcolor": "rgb(36,36,36)",
             "ticks": "outside"
            },
            "colorscale": [
             [
              0,
              "#440154"
             ],
             [
              0.1111111111111111,
              "#482878"
             ],
             [
              0.2222222222222222,
              "#3e4989"
             ],
             [
              0.3333333333333333,
              "#31688e"
             ],
             [
              0.4444444444444444,
              "#26828e"
             ],
             [
              0.5555555555555556,
              "#1f9e89"
             ],
             [
              0.6666666666666666,
              "#35b779"
             ],
             [
              0.7777777777777778,
              "#6ece58"
             ],
             [
              0.8888888888888888,
              "#b5de2b"
             ],
             [
              1,
              "#fde725"
             ]
            ],
            "type": "heatmapgl"
           }
          ],
          "histogram": [
           {
            "marker": {
             "line": {
              "color": "white",
              "width": 0.6
             }
            },
            "type": "histogram"
           }
          ],
          "histogram2d": [
           {
            "colorbar": {
             "outlinewidth": 1,
             "tickcolor": "rgb(36,36,36)",
             "ticks": "outside"
            },
            "colorscale": [
             [
              0,
              "#440154"
             ],
             [
              0.1111111111111111,
              "#482878"
             ],
             [
              0.2222222222222222,
              "#3e4989"
             ],
             [
              0.3333333333333333,
              "#31688e"
             ],
             [
              0.4444444444444444,
              "#26828e"
             ],
             [
              0.5555555555555556,
              "#1f9e89"
             ],
             [
              0.6666666666666666,
              "#35b779"
             ],
             [
              0.7777777777777778,
              "#6ece58"
             ],
             [
              0.8888888888888888,
              "#b5de2b"
             ],
             [
              1,
              "#fde725"
             ]
            ],
            "type": "histogram2d"
           }
          ],
          "histogram2dcontour": [
           {
            "colorbar": {
             "outlinewidth": 1,
             "tickcolor": "rgb(36,36,36)",
             "ticks": "outside"
            },
            "colorscale": [
             [
              0,
              "#440154"
             ],
             [
              0.1111111111111111,
              "#482878"
             ],
             [
              0.2222222222222222,
              "#3e4989"
             ],
             [
              0.3333333333333333,
              "#31688e"
             ],
             [
              0.4444444444444444,
              "#26828e"
             ],
             [
              0.5555555555555556,
              "#1f9e89"
             ],
             [
              0.6666666666666666,
              "#35b779"
             ],
             [
              0.7777777777777778,
              "#6ece58"
             ],
             [
              0.8888888888888888,
              "#b5de2b"
             ],
             [
              1,
              "#fde725"
             ]
            ],
            "type": "histogram2dcontour"
           }
          ],
          "mesh3d": [
           {
            "colorbar": {
             "outlinewidth": 1,
             "tickcolor": "rgb(36,36,36)",
             "ticks": "outside"
            },
            "type": "mesh3d"
           }
          ],
          "parcoords": [
           {
            "line": {
             "colorbar": {
              "outlinewidth": 1,
              "tickcolor": "rgb(36,36,36)",
              "ticks": "outside"
             }
            },
            "type": "parcoords"
           }
          ],
          "pie": [
           {
            "automargin": true,
            "type": "pie"
           }
          ],
          "scatter": [
           {
            "fillpattern": {
             "fillmode": "overlay",
             "size": 10,
             "solidity": 0.2
            },
            "type": "scatter"
           }
          ],
          "scatter3d": [
           {
            "line": {
             "colorbar": {
              "outlinewidth": 1,
              "tickcolor": "rgb(36,36,36)",
              "ticks": "outside"
             }
            },
            "marker": {
             "colorbar": {
              "outlinewidth": 1,
              "tickcolor": "rgb(36,36,36)",
              "ticks": "outside"
             }
            },
            "type": "scatter3d"
           }
          ],
          "scattercarpet": [
           {
            "marker": {
             "colorbar": {
              "outlinewidth": 1,
              "tickcolor": "rgb(36,36,36)",
              "ticks": "outside"
             }
            },
            "type": "scattercarpet"
           }
          ],
          "scattergeo": [
           {
            "marker": {
             "colorbar": {
              "outlinewidth": 1,
              "tickcolor": "rgb(36,36,36)",
              "ticks": "outside"
             }
            },
            "type": "scattergeo"
           }
          ],
          "scattergl": [
           {
            "marker": {
             "colorbar": {
              "outlinewidth": 1,
              "tickcolor": "rgb(36,36,36)",
              "ticks": "outside"
             }
            },
            "type": "scattergl"
           }
          ],
          "scattermapbox": [
           {
            "marker": {
             "colorbar": {
              "outlinewidth": 1,
              "tickcolor": "rgb(36,36,36)",
              "ticks": "outside"
             }
            },
            "type": "scattermapbox"
           }
          ],
          "scatterpolar": [
           {
            "marker": {
             "colorbar": {
              "outlinewidth": 1,
              "tickcolor": "rgb(36,36,36)",
              "ticks": "outside"
             }
            },
            "type": "scatterpolar"
           }
          ],
          "scatterpolargl": [
           {
            "marker": {
             "colorbar": {
              "outlinewidth": 1,
              "tickcolor": "rgb(36,36,36)",
              "ticks": "outside"
             }
            },
            "type": "scatterpolargl"
           }
          ],
          "scatterternary": [
           {
            "marker": {
             "colorbar": {
              "outlinewidth": 1,
              "tickcolor": "rgb(36,36,36)",
              "ticks": "outside"
             }
            },
            "type": "scatterternary"
           }
          ],
          "surface": [
           {
            "colorbar": {
             "outlinewidth": 1,
             "tickcolor": "rgb(36,36,36)",
             "ticks": "outside"
            },
            "colorscale": [
             [
              0,
              "#440154"
             ],
             [
              0.1111111111111111,
              "#482878"
             ],
             [
              0.2222222222222222,
              "#3e4989"
             ],
             [
              0.3333333333333333,
              "#31688e"
             ],
             [
              0.4444444444444444,
              "#26828e"
             ],
             [
              0.5555555555555556,
              "#1f9e89"
             ],
             [
              0.6666666666666666,
              "#35b779"
             ],
             [
              0.7777777777777778,
              "#6ece58"
             ],
             [
              0.8888888888888888,
              "#b5de2b"
             ],
             [
              1,
              "#fde725"
             ]
            ],
            "type": "surface"
           }
          ],
          "table": [
           {
            "cells": {
             "fill": {
              "color": "rgb(237,237,237)"
             },
             "line": {
              "color": "white"
             }
            },
            "header": {
             "fill": {
              "color": "rgb(217,217,217)"
             },
             "line": {
              "color": "white"
             }
            },
            "type": "table"
           }
          ]
         },
         "layout": {
          "annotationdefaults": {
           "arrowhead": 0,
           "arrowwidth": 1
          },
          "autotypenumbers": "strict",
          "coloraxis": {
           "colorbar": {
            "outlinewidth": 1,
            "tickcolor": "rgb(36,36,36)",
            "ticks": "outside"
           }
          },
          "colorscale": {
           "diverging": [
            [
             0,
             "rgb(103,0,31)"
            ],
            [
             0.1,
             "rgb(178,24,43)"
            ],
            [
             0.2,
             "rgb(214,96,77)"
            ],
            [
             0.3,
             "rgb(244,165,130)"
            ],
            [
             0.4,
             "rgb(253,219,199)"
            ],
            [
             0.5,
             "rgb(247,247,247)"
            ],
            [
             0.6,
             "rgb(209,229,240)"
            ],
            [
             0.7,
             "rgb(146,197,222)"
            ],
            [
             0.8,
             "rgb(67,147,195)"
            ],
            [
             0.9,
             "rgb(33,102,172)"
            ],
            [
             1,
             "rgb(5,48,97)"
            ]
           ],
           "sequential": [
            [
             0,
             "#440154"
            ],
            [
             0.1111111111111111,
             "#482878"
            ],
            [
             0.2222222222222222,
             "#3e4989"
            ],
            [
             0.3333333333333333,
             "#31688e"
            ],
            [
             0.4444444444444444,
             "#26828e"
            ],
            [
             0.5555555555555556,
             "#1f9e89"
            ],
            [
             0.6666666666666666,
             "#35b779"
            ],
            [
             0.7777777777777778,
             "#6ece58"
            ],
            [
             0.8888888888888888,
             "#b5de2b"
            ],
            [
             1,
             "#fde725"
            ]
           ],
           "sequentialminus": [
            [
             0,
             "#440154"
            ],
            [
             0.1111111111111111,
             "#482878"
            ],
            [
             0.2222222222222222,
             "#3e4989"
            ],
            [
             0.3333333333333333,
             "#31688e"
            ],
            [
             0.4444444444444444,
             "#26828e"
            ],
            [
             0.5555555555555556,
             "#1f9e89"
            ],
            [
             0.6666666666666666,
             "#35b779"
            ],
            [
             0.7777777777777778,
             "#6ece58"
            ],
            [
             0.8888888888888888,
             "#b5de2b"
            ],
            [
             1,
             "#fde725"
            ]
           ]
          },
          "colorway": [
           "#1F77B4",
           "#FF7F0E",
           "#2CA02C",
           "#D62728",
           "#9467BD",
           "#8C564B",
           "#E377C2",
           "#7F7F7F",
           "#BCBD22",
           "#17BECF"
          ],
          "font": {
           "color": "rgb(36,36,36)"
          },
          "geo": {
           "bgcolor": "white",
           "lakecolor": "white",
           "landcolor": "white",
           "showlakes": true,
           "showland": true,
           "subunitcolor": "white"
          },
          "hoverlabel": {
           "align": "left"
          },
          "hovermode": "closest",
          "mapbox": {
           "style": "light"
          },
          "paper_bgcolor": "white",
          "plot_bgcolor": "white",
          "polar": {
           "angularaxis": {
            "gridcolor": "rgb(232,232,232)",
            "linecolor": "rgb(36,36,36)",
            "showgrid": false,
            "showline": true,
            "ticks": "outside"
           },
           "bgcolor": "white",
           "radialaxis": {
            "gridcolor": "rgb(232,232,232)",
            "linecolor": "rgb(36,36,36)",
            "showgrid": false,
            "showline": true,
            "ticks": "outside"
           }
          },
          "scene": {
           "xaxis": {
            "backgroundcolor": "white",
            "gridcolor": "rgb(232,232,232)",
            "gridwidth": 2,
            "linecolor": "rgb(36,36,36)",
            "showbackground": true,
            "showgrid": false,
            "showline": true,
            "ticks": "outside",
            "zeroline": false,
            "zerolinecolor": "rgb(36,36,36)"
           },
           "yaxis": {
            "backgroundcolor": "white",
            "gridcolor": "rgb(232,232,232)",
            "gridwidth": 2,
            "linecolor": "rgb(36,36,36)",
            "showbackground": true,
            "showgrid": false,
            "showline": true,
            "ticks": "outside",
            "zeroline": false,
            "zerolinecolor": "rgb(36,36,36)"
           },
           "zaxis": {
            "backgroundcolor": "white",
            "gridcolor": "rgb(232,232,232)",
            "gridwidth": 2,
            "linecolor": "rgb(36,36,36)",
            "showbackground": true,
            "showgrid": false,
            "showline": true,
            "ticks": "outside",
            "zeroline": false,
            "zerolinecolor": "rgb(36,36,36)"
           }
          },
          "shapedefaults": {
           "fillcolor": "black",
           "line": {
            "width": 0
           },
           "opacity": 0.3
          },
          "ternary": {
           "aaxis": {
            "gridcolor": "rgb(232,232,232)",
            "linecolor": "rgb(36,36,36)",
            "showgrid": false,
            "showline": true,
            "ticks": "outside"
           },
           "baxis": {
            "gridcolor": "rgb(232,232,232)",
            "linecolor": "rgb(36,36,36)",
            "showgrid": false,
            "showline": true,
            "ticks": "outside"
           },
           "bgcolor": "white",
           "caxis": {
            "gridcolor": "rgb(232,232,232)",
            "linecolor": "rgb(36,36,36)",
            "showgrid": false,
            "showline": true,
            "ticks": "outside"
           }
          },
          "title": {
           "x": 0.05
          },
          "xaxis": {
           "automargin": true,
           "gridcolor": "rgb(232,232,232)",
           "linecolor": "rgb(36,36,36)",
           "showgrid": false,
           "showline": true,
           "ticks": "outside",
           "title": {
            "standoff": 15
           },
           "zeroline": false,
           "zerolinecolor": "rgb(36,36,36)"
          },
          "yaxis": {
           "automargin": true,
           "gridcolor": "rgb(232,232,232)",
           "linecolor": "rgb(36,36,36)",
           "showgrid": false,
           "showline": true,
           "ticks": "outside",
           "title": {
            "standoff": 15
           },
           "zeroline": false,
           "zerolinecolor": "rgb(36,36,36)"
          }
         }
        },
        "title": {
         "text": "PJM Marginal Fuel Mix by Quarter"
        },
        "width": 1200,
        "xaxis": {
         "tickfont": {
          "size": 10
         },
         "title": {
          "font": {
           "size": 12
          }
         }
        },
        "yaxis": {
         "range": [
          0,
          100
         ],
         "showspikes": true,
         "tickfont": {
          "size": 10
         },
         "title": {
          "text": "% of marginal fuel"
         }
        }
       }
      }
     },
     "metadata": {},
     "output_type": "display_data"
    }
   ],
   "source": [
    "xlabels = [list(df2.index.get_level_values(0)),\n",
    "           list(df2.index.get_level_values(1)),\n",
    "           df2.index]\n",
    "\n",
    "fig = go.Figure()\n",
    "\n",
    "# create traces\n",
    "for idx, tech in enumerate(df2.columns):\n",
    "    fig.add_trace(\n",
    "        go.Bar(\n",
    "            y=df2[tech],\n",
    "            x=xlabels,\n",
    "            name=tech,\n",
    "            showlegend=True,\n",
    "            width=1.0,\n",
    "            hovertemplate= f\"%{{x}}Q, %{{y:.1f}}%\", \n",
    "            hoverinfo ='name+x+y',\n",
    "            marker = dict(color = cmapdict[tech])\n",
    "            # marker=dict(colors=cmapdict[tech])\n",
    "        )\n",
    "    )\n",
    "\n",
    "# specify layout\n",
    "fig.update_layout(\n",
    "    autosize=False,\n",
    "    width=1200,\n",
    "    height=500,\n",
    "    yaxis=dict(\n",
    "        titlefont_size=12,\n",
    "        tickfont_size=10,\n",
    "        title=\"% of marginal fuel\",\n",
    "        showspikes=True),\n",
    "    xaxis=dict(\n",
    "        titlefont_size=12,\n",
    "        tickfont_size=10),\n",
    "    title_text='PJM Marginal Fuel Mix by Quarter',\n",
    "    template='simple_white',\n",
    "    barmode='stack'\n",
    ")\n",
    "\n",
    "fig.update_layout(\n",
    "        legend=dict(\n",
    "            orientation=\"v\",\n",
    "            yanchor=\"bottom\",\n",
    "            y=0.02,\n",
    "            xanchor=\"left\",\n",
    "            x=1\n",
    "        ),\n",
    "        yaxis=dict(\n",
    "            range=[0, 100]\n",
    "        )\n",
    "    )\n",
    "\n",
    "fig.show()"
   ]
  },
  {
   "cell_type": "code",
   "execution_count": null,
   "metadata": {},
   "outputs": [],
   "source": [
    "df2.columns.to_list()"
   ]
  },
  {
   "cell_type": "code",
   "execution_count": null,
   "metadata": {},
   "outputs": [],
   "source": []
  },
  {
   "cell_type": "code",
   "execution_count": null,
   "metadata": {},
   "outputs": [],
   "source": [
    "df2"
   ]
  },
  {
   "cell_type": "code",
   "execution_count": null,
   "metadata": {},
   "outputs": [],
   "source": [
    "data_canada = px.data.gapminder().query(\"country == 'Canada'\")\n",
    "fig = px.bar(data_canada, x='year', y='pop')\n",
    "fig.show()"
   ]
  },
  {
   "cell_type": "code",
   "execution_count": null,
   "metadata": {},
   "outputs": [],
   "source": [
    "mux = pd.MultiIndex.from_arrays([df2.index.year, df2.index.month], names=['year','month'])\n",
    "mux\n",
    "df2.index = mux\n",
    "df2"
   ]
  },
  {
   "cell_type": "code",
   "execution_count": null,
   "metadata": {},
   "outputs": [],
   "source": [
    "df2"
   ]
  },
  {
   "cell_type": "code",
   "execution_count": null,
   "metadata": {},
   "outputs": [],
   "source": [
    "# plotting 2004-2022 marginal fuel mix averaged by month\n",
    "f2 = plt.figure()\n",
    "\n",
    "datestart = '2004-01-01'\n",
    "dateend = '2022-01-01'\n",
    "\n",
    "plt.title('PJM Marginal Fuel', color='black')\n",
    "# df.loc[datestart:dateend].groupby(pd.PeriodIndex(df.loc[datestart:dateend].reset_index()['DATETIME_UTC'], freq=\"M\")).mean().plot(kind='bar', stacked=True, \n",
    "#     ax=f2.gca(), colormap='jet', linewidth=0.01, width=1.0)\n",
    "df2.loc[datestart:dateend].plot(kind='bar', stacked=True, \n",
    "    ax=f2.gca(), colormap='jet', linewidth=0.01, width=1.0)\n",
    "plt.legend(loc='right', bbox_to_anchor=(1.3, 0.6))\n",
    "plt.ylim([0,100])\n",
    "plt.show()\n",
    "\n",
    "\n",
    "\n",
    "\n",
    "# df.plot.area(colormap='jet')"
   ]
  },
  {
   "cell_type": "code",
   "execution_count": null,
   "metadata": {},
   "outputs": [],
   "source": [
    "list(df2.index.get_level_values(0))"
   ]
  },
  {
   "cell_type": "code",
   "execution_count": null,
   "metadata": {},
   "outputs": [],
   "source": [
    "df.loc['2021-01-01':'2022-01-01']['wind'].plot(ylim=[0,1], title=\"%WIND on the margin\")"
   ]
  },
  {
   "cell_type": "code",
   "execution_count": null,
   "metadata": {},
   "outputs": [],
   "source": [
    "fueltypesSeries = pd.Series(margfueldf['FUEL'].unique())\n",
    "fueltypesSeries.to_csv('fueltypes.csv')"
   ]
  },
  {
   "cell_type": "code",
   "execution_count": null,
   "metadata": {},
   "outputs": [],
   "source": [
    "pd.Series(margfueldf['FUEL'].unique())"
   ]
  },
  {
   "cell_type": "code",
   "execution_count": null,
   "metadata": {},
   "outputs": [],
   "source": [
    "margfueldf[margfueldf['FUEL']=='nan']"
   ]
  },
  {
   "cell_type": "code",
   "execution_count": null,
   "metadata": {},
   "outputs": [],
   "source": [
    "margfueldf[margfueldf['FUEL']=='Min Gen/Dispatch Reset']"
   ]
  },
  {
   "cell_type": "code",
   "execution_count": null,
   "metadata": {},
   "outputs": [],
   "source": []
  }
 ],
 "metadata": {
  "kernelspec": {
   "display_name": "Python 3.9.13 ('base')",
   "language": "python",
   "name": "python3"
  },
  "language_info": {
   "codemirror_mode": {
    "name": "ipython",
    "version": 3
   },
   "file_extension": ".py",
   "mimetype": "text/x-python",
   "name": "python",
   "nbconvert_exporter": "python",
   "pygments_lexer": "ipython3",
   "version": "3.9.13"
  },
  "orig_nbformat": 4,
  "vscode": {
   "interpreter": {
    "hash": "ad2bdc8ecc057115af97d19610ffacc2b4e99fae6737bb82f5d7fb13d2f2c186"
   }
  }
 },
 "nbformat": 4,
 "nbformat_minor": 2
}
